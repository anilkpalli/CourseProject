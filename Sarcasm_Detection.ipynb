{
  "nbformat": 4,
  "nbformat_minor": 0,
  "metadata": {
    "accelerator": "GPU",
    "colab": {
      "name": "Sarcasm_Detection.ipynb",
      "provenance": [],
      "collapsed_sections": []
    },
    "kernelspec": {
      "display_name": "Python 3",
      "name": "python3"
    }
  },
  "cells": [
    {
      "cell_type": "markdown",
      "metadata": {
        "id": "sMIGx6a6ATQ0"
      },
      "source": [
        "**Section: 1 - Reading input data**\r\n",
        "\r\n",
        "Following 4 paragraphs contains the Code to read input data files into colab from gdrive\r\n"
      ]
    },
    {
      "cell_type": "code",
      "metadata": {
        "id": "SuEeLdix0Ybt"
      },
      "source": [
        "# Include the required libraries\n",
        "!pip install -U -q PyDrive\n",
        "from pydrive.auth import GoogleAuth\n",
        "from pydrive.drive import GoogleDrive\n",
        "from google.colab import auth\n",
        "from oauth2client.client import GoogleCredentials"
      ],
      "execution_count": 66,
      "outputs": []
    },
    {
      "cell_type": "code",
      "metadata": {
        "id": "Q9hvFUKMLw8i"
      },
      "source": [
        "#Authenticate your google account\n",
        "auth.authenticate_user()\n",
        "gauth = GoogleAuth()\n",
        "gauth.credentials = GoogleCredentials.get_application_default()\n",
        "drive = GoogleDrive(gauth)"
      ],
      "execution_count": 67,
      "outputs": []
    },
    {
      "cell_type": "code",
      "metadata": {
        "id": "ghY9dCkqLxz0"
      },
      "source": [
        "#Download the train data\n",
        "downloaded = drive.CreateFile({'id':'1PpBEZeSTgX3ZW9OgoXQ7VuqVwMDgA_7p'}) # replace the id with id of file you want to access\n",
        "downloaded.GetContentFile('train.jsonl') "
      ],
      "execution_count": 68,
      "outputs": []
    },
    {
      "cell_type": "code",
      "metadata": {
        "id": "Uf1-Rp2_Lx9s"
      },
      "source": [
        "#Download the test data\n",
        "downloaded = drive.CreateFile({'id':'1E362ZrNp0_Ki8gOtITrze69L-sJ9CNsj'}) # replace the id with id of file you want to access\n",
        "downloaded.GetContentFile('test.jsonl') "
      ],
      "execution_count": 69,
      "outputs": []
    },
    {
      "cell_type": "code",
      "metadata": {
        "id": "M7uQ4IGv4rur"
      },
      "source": [
        ""
      ],
      "execution_count": 69,
      "outputs": []
    },
    {
      "cell_type": "markdown",
      "metadata": {
        "id": "lJBSi4TdBY5T"
      },
      "source": [
        "**Section: 2 - Preprocess data**\r\n",
        "\r\n",
        "The input data (train) consists of 3 columns: label, reponse and context. In this step the response and context are combined into one single sentence in the order of last to first conversation sequence"
      ]
    },
    {
      "cell_type": "code",
      "metadata": {
        "colab": {
          "base_uri": "https://localhost:8080/"
        },
        "id": "jVgInjCdz4lY",
        "outputId": "1d55fb9e-9e48-437c-b3c4-fc26d31cc8c2"
      },
      "source": [
        "#Import all the required libraries\n",
        "import numpy as np\n",
        "import pandas as pd\n",
        "import time\n",
        "\n",
        "#Import sklearn modules for generating classification report and for splitting the train data\n",
        "from sklearn.model_selection import train_test_split\n",
        "from sklearn.metrics import classification_report\n",
        "\n",
        "#Import torch\n",
        "import torch\n",
        "import torch.nn as nn\n",
        "from torch.utils.data import TensorDataset, DataLoader, RandomSampler, SequentialSampler\n",
        "\n",
        "#Install transformers library for tokenizing the text data\n",
        "!pip install transformers==3.0.0\n",
        "import transformers\n",
        "from transformers import AutoModel, RobertaTokenizer, RobertaTokenizerFast, BertTokenizer, BertTokenizerFast\n",
        "from transformers import AdamW\n",
        "\n",
        "# specify GPU\n",
        "device = torch.device('cuda')\n",
        "\n",
        "#Set seed manually to be able to replicate the results\n",
        "seed = 1234\n",
        "torch.manual_seed(seed)\n",
        "torch.cuda.manual_seed_all(seed)\n",
        "np.random.seed(seed)"
      ],
      "execution_count": 70,
      "outputs": [
        {
          "output_type": "stream",
          "text": [
            "Requirement already satisfied: transformers==3.0.0 in /usr/local/lib/python3.6/dist-packages (3.0.0)\n",
            "Requirement already satisfied: sacremoses in /usr/local/lib/python3.6/dist-packages (from transformers==3.0.0) (0.0.43)\n",
            "Requirement already satisfied: dataclasses; python_version < \"3.7\" in /usr/local/lib/python3.6/dist-packages (from transformers==3.0.0) (0.8)\n",
            "Requirement already satisfied: requests in /usr/local/lib/python3.6/dist-packages (from transformers==3.0.0) (2.23.0)\n",
            "Requirement already satisfied: sentencepiece in /usr/local/lib/python3.6/dist-packages (from transformers==3.0.0) (0.1.94)\n",
            "Requirement already satisfied: tqdm>=4.27 in /usr/local/lib/python3.6/dist-packages (from transformers==3.0.0) (4.41.1)\n",
            "Requirement already satisfied: packaging in /usr/local/lib/python3.6/dist-packages (from transformers==3.0.0) (20.7)\n",
            "Requirement already satisfied: tokenizers==0.8.0-rc4 in /usr/local/lib/python3.6/dist-packages (from transformers==3.0.0) (0.8.0rc4)\n",
            "Requirement already satisfied: filelock in /usr/local/lib/python3.6/dist-packages (from transformers==3.0.0) (3.0.12)\n",
            "Requirement already satisfied: numpy in /usr/local/lib/python3.6/dist-packages (from transformers==3.0.0) (1.18.5)\n",
            "Requirement already satisfied: regex!=2019.12.17 in /usr/local/lib/python3.6/dist-packages (from transformers==3.0.0) (2019.12.20)\n",
            "Requirement already satisfied: six in /usr/local/lib/python3.6/dist-packages (from sacremoses->transformers==3.0.0) (1.15.0)\n",
            "Requirement already satisfied: joblib in /usr/local/lib/python3.6/dist-packages (from sacremoses->transformers==3.0.0) (0.17.0)\n",
            "Requirement already satisfied: click in /usr/local/lib/python3.6/dist-packages (from sacremoses->transformers==3.0.0) (7.1.2)\n",
            "Requirement already satisfied: certifi>=2017.4.17 in /usr/local/lib/python3.6/dist-packages (from requests->transformers==3.0.0) (2020.12.5)\n",
            "Requirement already satisfied: idna<3,>=2.5 in /usr/local/lib/python3.6/dist-packages (from requests->transformers==3.0.0) (2.10)\n",
            "Requirement already satisfied: urllib3!=1.25.0,!=1.25.1,<1.26,>=1.21.1 in /usr/local/lib/python3.6/dist-packages (from requests->transformers==3.0.0) (1.24.3)\n",
            "Requirement already satisfied: chardet<4,>=3.0.2 in /usr/local/lib/python3.6/dist-packages (from requests->transformers==3.0.0) (3.0.4)\n",
            "Requirement already satisfied: pyparsing>=2.0.2 in /usr/local/lib/python3.6/dist-packages (from packaging->transformers==3.0.0) (2.4.7)\n"
          ],
          "name": "stdout"
        }
      ]
    },
    {
      "cell_type": "code",
      "metadata": {
        "id": "Sdn7VwzT7foV"
      },
      "source": [
        "#Readin json data to a python list\n",
        "\n",
        "import json\n",
        "tweets = []\n",
        "for line in open('train.jsonl', 'r', encoding=\"utf8\"):\n",
        "    tweets.append(json.loads(line))"
      ],
      "execution_count": 71,
      "outputs": []
    },
    {
      "cell_type": "code",
      "metadata": {
        "colab": {
          "base_uri": "https://localhost:8080/"
        },
        "id": "xRM7ENyy3SyB",
        "outputId": "024d09ea-7ae4-48a8-e14c-75c6bc49d97f"
      },
      "source": [
        "tweets[0:2]"
      ],
      "execution_count": 72,
      "outputs": [
        {
          "output_type": "execute_result",
          "data": {
            "text/plain": [
              "[{'context': ['A minor child deserves privacy and should be kept out of politics . Pamela Karlan , you should be ashamed of your very angry and obviously biased public pandering , and using a child to do it .',\n",
              "   \"@USER If your child isn't named Barron ... #BeBest Melania couldn't care less . Fact . 💯\"],\n",
              "  'label': 'SARCASM',\n",
              "  'response': \"@USER @USER @USER I don't get this .. obviously you do care or you would've moved right along .. instead you decided to care and troll her ..\"},\n",
              " {'context': [\"@USER @USER Why is he a loser ? He's just a Press Secretary\",\n",
              "   '@USER @USER having to make up excuses of why your crowd was small .'],\n",
              "  'label': 'SARCASM',\n",
              "  'response': '@USER @USER trying to protest about . Talking about him and his labels and they label themselves WTF does that make em ?'}]"
            ]
          },
          "metadata": {
            "tags": []
          },
          "execution_count": 72
        }
      ]
    },
    {
      "cell_type": "code",
      "metadata": {
        "id": "Yww9bNgM0njb"
      },
      "source": [
        "#Combining response and context into one single sentence\n",
        "\n",
        "import pandas as pd\n",
        "twt_df = pd.DataFrame(tweets)\n",
        "twt_df[\"label\"].value_counts()\n",
        "\n",
        "new_df = twt_df.copy()\n",
        "\n",
        "new_df[\"new_context\"] =  ['.'.join(l[::-1]) for l in new_df['context']] \n",
        "#new_df[\"new_context\"] =  [','.join(map(str, l)) for l in new_df['context']]\n",
        "new_df[\"text\"] = new_df[\"response\"] + new_df[\"new_context\"]\n",
        "\n",
        "new_df[\"label\"]=new_df[\"label\"].map({\"SARCASM\": 1, \"NOT_SARCASM\":0})"
      ],
      "execution_count": 73,
      "outputs": []
    },
    {
      "cell_type": "code",
      "metadata": {
        "colab": {
          "base_uri": "https://localhost:8080/"
        },
        "id": "5-fhYbCq0tqX",
        "outputId": "fe9a1dec-0779-47a6-a523-bdd9cee1171c"
      },
      "source": [
        "new_df[\"text\"].to_list()[0:5]"
      ],
      "execution_count": 75,
      "outputs": [
        {
          "output_type": "execute_result",
          "data": {
            "text/plain": [
              "[\"@USER @USER @USER I don't get this .. obviously you do care or you would've moved right along .. instead you decided to care and troll her ..@USER If your child isn't named Barron ... #BeBest Melania couldn't care less . Fact . 💯.A minor child deserves privacy and should be kept out of politics . Pamela Karlan , you should be ashamed of your very angry and obviously biased public pandering , and using a child to do it .\",\n",
              " \"@USER @USER trying to protest about . Talking about him and his labels and they label themselves WTF does that make em ?@USER @USER having to make up excuses of why your crowd was small ..@USER @USER Why is he a loser ? He's just a Press Secretary\",\n",
              " '@USER @USER @USER He makes an insane about of money from the MOVIES , Einstein ! #LearnHowTheSystemWorks@USER I ’ ll remember to not support you at the box office ..Donald J . Trump is guilty as charged . The evidence is clear . If your Senator votes to acquit , remember him / her at the ballot box .',\n",
              " \"@USER @USER Meanwhile Trump won't even release his SAT scores and his Wharton professors said he was the dumbest student they've ever taught@USER But not half as stupid as Schiff looks . People's looks are what nature creates . Abilities of people are what they create for themselves . Just for looks , Lincoln was not tops but with his education and understanding made him great ..Jamie Raskin tanked Doug Collins . Collins looks stupid . <URL>\",\n",
              " '@USER @USER Pretty Sure the Anti-Lincoln Crowd Claimed That \" Democracy Was on the Ballot \" in 1860 , too . They Thought Lincoln Was \" Authoritarian \" . #GOP #PartyOfLincoln #Democrats@USER They already did . Obama said many times during the 2016 campaign that democracy was on the ballot . Then . Hillary warned you , so did every single expert in authoritarianism . The media , like millions of Americans , refused to believe them ..Man ... y ’ all gone “ both sides ” the apocalypse one day . <URL>']"
            ]
          },
          "metadata": {
            "tags": []
          },
          "execution_count": 75
        }
      ]
    },
    {
      "cell_type": "code",
      "metadata": {
        "id": "-HL0iJaBW-3V"
      },
      "source": [
        ""
      ],
      "execution_count": null,
      "outputs": []
    },
    {
      "cell_type": "markdown",
      "metadata": {
        "id": "9CtGZfoxEGBQ"
      },
      "source": [
        "**Section: 3 - Prepare data for modeling**\r\n",
        "\r\n",
        "*   Split the data into training and validation\r\n",
        "*   Trim the conversations\r\n",
        "*   Tokenize and encode sequences\r\n",
        "*   Create train and validation tensor datasets\r\n"
      ]
    },
    {
      "cell_type": "code",
      "metadata": {
        "id": "Q7I-AQPV_3MY"
      },
      "source": [
        "#Split the data into training (80%) and validation (20%)\n",
        "\n",
        "from sklearn.model_selection import train_test_split\n",
        "X_train, X_val, y_train, y_val = train_test_split(new_df[\"text\"], new_df[\"label\"], test_size=0.2, stratify=new_df[\"label\"], random_state=seed)"
      ],
      "execution_count": 76,
      "outputs": []
    },
    {
      "cell_type": "code",
      "metadata": {
        "colab": {
          "base_uri": "https://localhost:8080/",
          "height": 283
        },
        "id": "3GJCx4IPAsTl",
        "outputId": "696599d8-7b02-413e-e3aa-bc727bbc6fb6"
      },
      "source": [
        "#Distribution of conversation lengths\n",
        "\n",
        "seq_len = [len(i.split()) for i in X_train]\n",
        "pd.Series(seq_len).hist(bins = 30)"
      ],
      "execution_count": 77,
      "outputs": [
        {
          "output_type": "execute_result",
          "data": {
            "text/plain": [
              "<matplotlib.axes._subplots.AxesSubplot at 0x7f2ad886ceb8>"
            ]
          },
          "metadata": {
            "tags": []
          },
          "execution_count": 77
        },
        {
          "output_type": "display_data",
          "data": {
            "image/png": "[encoded data removed]",
            "text/plain": [
              "<Figure size 432x288 with 1 Axes>"
            ]
          },
          "metadata": {
            "tags": [],
            "needs_background": "light"
          }
        }
      ]
    },
    {
      "cell_type": "code",
      "metadata": {
        "id": "SHnoyZ0dnSuf"
      },
      "source": [
        "#Specifying max sentence length \n",
        "max_len=200"
      ],
      "execution_count": 78,
      "outputs": []
    },
    {
      "cell_type": "code",
      "metadata": {
        "id": "jVndiNymBM6k"
      },
      "source": [
        "#Load the required tokenizer\n",
        "tokenizer = RobertaTokenizerFast.from_pretrained('roberta-base') \n",
        "\n",
        "#Tokenize and encode sequences in the training and validation sets\n",
        "train_tks = tokenizer.batch_encode_plus(X_train.tolist(), max_length = max_len, pad_to_max_length=True, truncation=True, return_tensors='pt')\n",
        "val_tks = tokenizer.batch_encode_plus(X_val.tolist(), max_length = max_len, pad_to_max_length=True, truncation=True, return_tensors='pt')"
      ],
      "execution_count": 79,
      "outputs": []
    },
    {
      "cell_type": "code",
      "metadata": {
        "id": "wScdr5jVBjUT"
      },
      "source": [
        "## Create train and validation tensor datasets\n",
        "train_text = train_tks['input_ids']\n",
        "train_mask = train_tks['attention_mask']\n",
        "train_y = torch.tensor(y_train.tolist())\n",
        "\n",
        "val_text = val_tks['input_ids']\n",
        "val_mask = val_tks['attention_mask']\n",
        "val_y = torch.tensor(y_val.tolist())\n",
        "\n",
        "train_data = TensorDataset(train_text, train_mask, train_y) # wrap tensors\n",
        "val_data = TensorDataset(val_text, val_mask, val_y)"
      ],
      "execution_count": 80,
      "outputs": []
    },
    {
      "cell_type": "markdown",
      "metadata": {
        "id": "4n9ueSHSDR7h"
      },
      "source": [
        "**Section :4 - Define model build functions**\r\n",
        "\r\n",
        "Contains train and validate functions to build the model"
      ]
    },
    {
      "cell_type": "code",
      "metadata": {
        "id": "9ZcVCej33Azf"
      },
      "source": [
        "class TxtClsf(nn.Module):\n",
        "\n",
        "    def __init__(self, pre_train_lm):\n",
        "      \n",
        "      super(TxtClsf, self).__init__()\n",
        "\n",
        "      self.embeds = pre_train_lm\n",
        "    \n",
        "      # Linear layer\n",
        "      self.linear_layers = nn.Sequential(\n",
        "                nn.Linear(in_features=768, out_features=512),          \n",
        "                nn.ReLU(),\n",
        "                nn.Dropout(p=0.1),\n",
        "                nn.Linear(in_features=512, out_features=2)\n",
        "        )\n",
        "      \n",
        "      self.activate = nn.LogSoftmax(dim=1)\n",
        "\n",
        "    #define the forward pass\n",
        "    def forward(self, text, mask):\n",
        "\n",
        "      #pass the inputs to the model  \n",
        "      _, cls_hs = self.embeds(text, attention_mask=mask)\n",
        "      \n",
        "      x = self.linear_layers(cls_hs)\n",
        "      x = self.activate(x)\n",
        "\n",
        "      return x"
      ],
      "execution_count": 81,
      "outputs": []
    },
    {
      "cell_type": "code",
      "metadata": {
        "id": "2nGMZoz3Dndx"
      },
      "source": [
        "# function to train the model\n",
        "def train(train_data,batch_size):\n",
        "  \n",
        "  model.train()\n",
        "  total_loss, total_matches = 0, 0\n",
        "\n",
        "  train_dataloader = DataLoader(train_data, sampler=RandomSampler(train_data), batch_size=batch_size) # dataLoader for train set\n",
        "  \n",
        "  # iterate over batches\n",
        "  for step,batch in enumerate(train_dataloader):    \n",
        "  \n",
        "    batch = [r.to(device) for r in batch] # push the batch to gpu  \n",
        "    text, mask, labels = batch    \n",
        "    model.zero_grad() # clear previously calculated gradients       \n",
        "\n",
        "    preds = model(text, mask) # get model predictions for the current batch\n",
        "    loss = criterion(preds, labels) # compute the loss between actual and predicted values    \n",
        "    total_loss = total_loss + loss.item() # add on to the total loss    \n",
        "    matches = (preds.argmax(1) == labels).sum().item() # Compute matches with each batch \n",
        "    total_matches = total_matches + matches # Aggregate the matches for computing final accuracy\n",
        "    \n",
        "    loss.backward() # backward pass to calculate the gradients\n",
        "    torch.nn.utils.clip_grad_norm_(model.parameters(), 1.0) # clip the the gradients to 1.0. It helps in preventing the exploding gradient problem\n",
        "    optimizer.step() # update parameters\n",
        "\n",
        "  avg_loss = total_loss / len(train_dataloader) # compute the training loss of the epoch\n",
        "  accuracy = total_matches / len(train_data) # Compute overall accuracy within each epoch\n",
        "\n",
        "  #returns the loss and predictions\n",
        "  return avg_loss, accuracy\n",
        "\n",
        "# function for evaluating the model\n",
        "def validate(val_data,batch_size):\n",
        "\n",
        "  model.eval()\n",
        "  total_loss, total_matches = 0, 0\n",
        "\n",
        "  val_dataloader = DataLoader(val_data, sampler=SequentialSampler(val_data), batch_size=batch_size)\n",
        "\n",
        "  # iterate over batches\n",
        "  for step,batch in enumerate(val_dataloader):\n",
        "    \n",
        "    # push the batch to gpu\n",
        "    batch = [t.to(device) for t in batch]\n",
        "    text, mask, labels = batch\n",
        "\n",
        "    # deactivate autograd\n",
        "    with torch.no_grad():\n",
        "      \n",
        "      # model predictions\n",
        "      preds = model(text, mask)\n",
        "\n",
        "      # compute the validation loss and accuracy between actual and predicted values\n",
        "      loss = criterion(preds,labels)\n",
        "      total_loss = total_loss + loss.item()\n",
        "      matches = (preds.argmax(1) == labels).sum().item()\n",
        "      total_matches = total_matches + matches\n",
        "\n",
        "  # compute the average validation loss and accuracy of the epoch\n",
        "  avg_loss = total_loss / len(val_dataloader)\n",
        "  accuracy = total_matches / len(val_data)\n",
        "\n",
        "  return avg_loss, accuracy"
      ],
      "execution_count": 82,
      "outputs": []
    },
    {
      "cell_type": "markdown",
      "metadata": {
        "id": "uiFBIU76IADk"
      },
      "source": [
        "**Section: 5 - Run the model**\r\n",
        "\r\n",
        "*   Define model paramters\r\n",
        "*   Run the model and store the best model\r\n"
      ]
    },
    {
      "cell_type": "code",
      "metadata": {
        "id": "vmYYSakECjtJ"
      },
      "source": [
        "pre_train_mdl = AutoModel.from_pretrained('roberta-base') # import pretrained roberta-base model\n",
        "model = TxtClsf(pre_train_mdl) # pass the pre-trained RoBERTA to our define architecture\n",
        "model = model.to(device) # push the model to GPU\n",
        "\n",
        "optimizer = AdamW(model.parameters(),lr = 1e-5) # define the optimizer\n",
        "criterion  = nn.NLLLoss() # define the loss function\n",
        "#criterion  = nn.CrossEntropyLoss()\n",
        "epochs = 10 # number of training epochs\n",
        "batch_size=32"
      ],
      "execution_count": 83,
      "outputs": []
    },
    {
      "cell_type": "code",
      "metadata": {
        "colab": {
          "base_uri": "https://localhost:8080/"
        },
        "id": "wHSq-KgOD0s8",
        "outputId": "9a4fcd05-fe3a-460f-b540-95e418440d5f"
      },
      "source": [
        "best_valid_loss = float('inf') # Set initial loss to infinite\n",
        "best_valid_acc = 0 #Set initial accuracy to zero\n",
        "\n",
        "# Empty lists to store training and validation loss of each epoch\n",
        "train_losses=[]\n",
        "valid_losses=[]\n",
        "\n",
        "train_accs=[]\n",
        "valid_accs=[]\n",
        "\n",
        "#Train and validate for each epoch\n",
        "for epoch in range(epochs):\n",
        "    \n",
        "    start_time = time.time()\n",
        "    train_loss, train_acc = train(train_data,batch_size) #train model\n",
        "    valid_loss, valid_acc = validate(val_data,batch_size) #evaluate model\n",
        "\n",
        "    secs = int(time.time() - start_time)\n",
        "    mins = secs / 60\n",
        "    secs = secs % 60\n",
        "\n",
        "    #Print loss and acccuracy values to the output\n",
        "    print('Epoch: %d' %(epoch + 1), \" completed in %d minutes, %d seconds\" %(mins, secs))\n",
        "    print(f'\\tLoss: {train_loss:.4f}(train)\\t|\\tAcc: {train_acc * 100:.1f}%(train)')\n",
        "    print(f'\\tLoss: {valid_loss:.4f}(valid)\\t|\\tAcc: {valid_acc * 100:.1f}%(valid)')\n",
        "    \n",
        "    #Optional - save the model having lowest validation loss\n",
        "    if valid_loss < best_valid_loss:\n",
        "        best_valid_loss = valid_loss\n",
        "        torch.save(model.state_dict(), 'loss_weights.pt')\n",
        "\n",
        "    #save the best (having highest validation accuracy) model\n",
        "    if valid_acc > best_valid_acc:\n",
        "        best_valid_acc = valid_acc\n",
        "        torch.save(model.state_dict(), 'acc_weights.pt')\n",
        "    \n",
        "    #Append training and validation loss and accuracy values\n",
        "    train_losses.append(train_loss)\n",
        "    valid_losses.append(valid_loss)\n",
        "    train_accs.append(train_acc)\n",
        "    valid_accs.append(valid_acc)"
      ],
      "execution_count": 84,
      "outputs": [
        {
          "output_type": "stream",
          "text": [
            "Epoch: 1  completed in 2 minutes, 46 seconds\n",
            "\tLoss: 0.5909(train)\t|\tAcc: 67.1%(train)\n",
            "\tLoss: 0.5184(valid)\t|\tAcc: 76.7%(valid)\n",
            "Epoch: 2  completed in 2 minutes, 45 seconds\n",
            "\tLoss: 0.4461(train)\t|\tAcc: 79.6%(train)\n",
            "\tLoss: 0.4358(valid)\t|\tAcc: 80.4%(valid)\n",
            "Epoch: 3  completed in 2 minutes, 46 seconds\n",
            "\tLoss: 0.3805(train)\t|\tAcc: 84.2%(train)\n",
            "\tLoss: 0.4129(valid)\t|\tAcc: 82.2%(valid)\n",
            "Epoch: 4  completed in 2 minutes, 46 seconds\n",
            "\tLoss: 0.3192(train)\t|\tAcc: 87.2%(train)\n",
            "\tLoss: 0.4211(valid)\t|\tAcc: 83.7%(valid)\n",
            "Epoch: 5  completed in 2 minutes, 46 seconds\n",
            "\tLoss: 0.2523(train)\t|\tAcc: 90.7%(train)\n",
            "\tLoss: 0.4497(valid)\t|\tAcc: 82.7%(valid)\n",
            "Epoch: 6  completed in 2 minutes, 46 seconds\n",
            "\tLoss: 0.2032(train)\t|\tAcc: 92.7%(train)\n",
            "\tLoss: 0.4497(valid)\t|\tAcc: 83.8%(valid)\n",
            "Epoch: 7  completed in 2 minutes, 46 seconds\n",
            "\tLoss: 0.1887(train)\t|\tAcc: 93.3%(train)\n",
            "\tLoss: 0.4669(valid)\t|\tAcc: 83.4%(valid)\n",
            "Epoch: 8  completed in 2 minutes, 45 seconds\n",
            "\tLoss: 0.1396(train)\t|\tAcc: 95.8%(train)\n",
            "\tLoss: 0.6186(valid)\t|\tAcc: 84.0%(valid)\n",
            "Epoch: 9  completed in 2 minutes, 45 seconds\n",
            "\tLoss: 0.1063(train)\t|\tAcc: 97.1%(train)\n",
            "\tLoss: 0.7581(valid)\t|\tAcc: 83.2%(valid)\n",
            "Epoch: 10  completed in 2 minutes, 45 seconds\n",
            "\tLoss: 0.0998(train)\t|\tAcc: 97.3%(train)\n",
            "\tLoss: 0.6816(valid)\t|\tAcc: 83.9%(valid)\n"
          ],
          "name": "stdout"
        }
      ]
    },
    {
      "cell_type": "markdown",
      "metadata": {
        "id": "HC4cnIY0J3Sn"
      },
      "source": [
        "**Section:6 - Test predictions**\r\n",
        "\r\n",
        "*   Load the best model -  model with highest validation accuracy in prior step\r\n",
        "*   Preprocess test data same as the training data\r\n",
        "*   Split the test dataset into 2 parts to overcome limited space issue in colab\r\n",
        "*   Get the predictions for the 2 test sets and combine into one final dataframe\r\n"
      ]
    },
    {
      "cell_type": "code",
      "metadata": {
        "id": "esqQTlriFXzE",
        "colab": {
          "base_uri": "https://localhost:8080/"
        },
        "outputId": "e0d36b03-e10c-4f2e-936f-f10c97717aa6"
      },
      "source": [
        "#load weights of best model (Choose between best accuracy or least loss)\n",
        "path = 'acc_weights.pt'\n",
        "model.load_state_dict(torch.load(path))"
      ],
      "execution_count": 86,
      "outputs": [
        {
          "output_type": "execute_result",
          "data": {
            "text/plain": [
              "<All keys matched successfully>"
            ]
          },
          "metadata": {
            "tags": []
          },
          "execution_count": 86
        }
      ]
    },
    {
      "cell_type": "code",
      "metadata": {
        "id": "IRbb6OBS1atA"
      },
      "source": [
        "#Preprocess test dataset same as training\n",
        "\n",
        "import json\n",
        "tsts = []\n",
        "for line in open('test.jsonl', 'r', encoding=\"utf8\"):\n",
        "    tsts.append(json.loads(line))\n",
        "\n",
        "import pandas as pd\n",
        "tst_df = pd.DataFrame(tsts)\n",
        "\n",
        "tst_df[\"new_context\"] =  ['.'.join(l[::-1]) for l in tst_df['context']]\n",
        "#tst_df[\"new_context\"] =  [','.join(map(str, l)) for l in tst_df['context']]\n",
        "tst_df[\"text\"] = tst_df[\"response\"] + tst_df[\"new_context\"]"
      ],
      "execution_count": 90,
      "outputs": []
    },
    {
      "cell_type": "code",
      "metadata": {
        "id": "C6YrcLxk1tdN"
      },
      "source": [
        "# Tokenize and encode sequences in the test set - 1\n",
        "# 1000 records are processed at a time due to colab space limitations\n",
        "test_text = tst_df[\"text\"][0:1000]\n",
        "tokens_test = tokenizer.batch_encode_plus(test_text.tolist(), max_length = max_len, pad_to_max_length=True, truncation=True)\n",
        "\n",
        "test_seq = torch.tensor(tokens_test['input_ids'])\n",
        "test_mask = torch.tensor(tokens_test['attention_mask'])"
      ],
      "execution_count": 91,
      "outputs": []
    },
    {
      "cell_type": "code",
      "metadata": {
        "id": "_sxTvAp8Tjse"
      },
      "source": [
        "# Get predictions for test dataset-1\n",
        "with torch.no_grad():\n",
        "  preds = model(test_seq.to(device), test_mask.to(device))\n",
        "  preds = preds.detach().cpu().numpy()"
      ],
      "execution_count": 92,
      "outputs": []
    },
    {
      "cell_type": "code",
      "metadata": {
        "id": "57Dv9cCyTmfF"
      },
      "source": [
        "preds1 = np.argmax(preds, axis = 1)"
      ],
      "execution_count": 93,
      "outputs": []
    },
    {
      "cell_type": "code",
      "metadata": {
        "id": "OUN8XAuB3aF1"
      },
      "source": [
        "# Tokenize and encode sequences for the test set - 2\n",
        "test_text = tst_df[\"text\"][1000:]\n",
        "tokens_test = tokenizer.batch_encode_plus(test_text.tolist(), max_length = max_len, pad_to_max_length=True, truncation=True)\n",
        "\n",
        "test_seq = torch.tensor(tokens_test['input_ids'])\n",
        "test_mask = torch.tensor(tokens_test['attention_mask'])"
      ],
      "execution_count": 94,
      "outputs": []
    },
    {
      "cell_type": "code",
      "metadata": {
        "id": "FX2GsX2f3aOA"
      },
      "source": [
        "# Get predictions for test set-2\n",
        "with torch.no_grad():\n",
        "  preds = model(test_seq.to(device), test_mask.to(device))\n",
        "  preds = preds.detach().cpu().numpy()"
      ],
      "execution_count": 95,
      "outputs": []
    },
    {
      "cell_type": "code",
      "metadata": {
        "id": "3vBe5ezK3aXa"
      },
      "source": [
        "preds2 = np.argmax(preds, axis = 1)"
      ],
      "execution_count": 96,
      "outputs": []
    },
    {
      "cell_type": "code",
      "metadata": {
        "id": "8b1HKB7k2yDW"
      },
      "source": [
        "#Combine the predictions from the 2 test sets\n",
        "predictions = list()\n",
        "predictions.extend(list(preds1))\n",
        "predictions.extend(list(preds2))"
      ],
      "execution_count": 97,
      "outputs": []
    },
    {
      "cell_type": "code",
      "metadata": {
        "id": "QyHxTEPv4l7f",
        "colab": {
          "base_uri": "https://localhost:8080/"
        },
        "outputId": "0c15837d-98cc-4520-bd55-ac6d40e4dabb"
      },
      "source": [
        "#Distribution of final labels in the test set\r\n",
        "pd.Series(predictions).value_counts()`  `"
      ],
      "execution_count": 98,
      "outputs": [
        {
          "output_type": "execute_result",
          "data": {
            "text/plain": [
              "1    1100\n",
              "0     700\n",
              "dtype: int64"
            ]
          },
          "metadata": {
            "tags": []
          },
          "execution_count": 98
        }
      ]
    },
    {
      "cell_type": "code",
      "metadata": {
        "id": "LEomRcXh3JMa"
      },
      "source": [
        "#Assign appropriate text labels\r\n",
        "\r\n",
        "predictions=pd.Series(predictions).map({1:\"SARCASM\", 0:\"NOT_SARCASM\"})"
      ],
      "execution_count": 99,
      "outputs": []
    },
    {
      "cell_type": "code",
      "metadata": {
        "id": "PLT3QN9Z2j9R",
        "colab": {
          "base_uri": "https://localhost:8080/",
          "height": 157
        },
        "outputId": "db89eaf5-2a5a-474e-f359-6b5076e57cf4"
      },
      "source": [
        "#Create final predicted dataframe\n",
        "\n",
        "test_preds = pd.DataFrame({'id':tst_df['id'],'label':predictions})\n",
        "test_preds.to_csv(index=False)"
      ],
      "execution_count": 100,
      "outputs": [
        {
          "output_type": "execute_result",
          "data": {
            "application/vnd.google.colaboratory.intrinsic+json": {
              "type": "string"
            },
            "text/plain": [
              "'id,label\\ntwitter_1,NOT_SARCASM\\ntwitter_2,SARCASM\\ntwitter_3,SARCASM\\ntwitter_4,NOT_SARCASM\\ntwitter_5,SARCASM\\ntwitter_6,SARCASM\\ntwitter_7,NOT_SARCASM\\ntwitter_8,SARCASM\\ntwitter_9,SARCASM\\ntwitter_10,SARCASM\\ntwitter_11,SARCASM\\ntwitter_12,SARCASM\\ntwitter_13,NOT_SARCASM\\ntwitter_14,NOT_SARCASM\\ntwitter_15,SARCASM\\ntwitter_16,SARCASM\\ntwitter_17,SARCASM\\ntwitter_18,SARCASM\\ntwitter_19,SARCASM\\ntwitter_20,NOT_SARCASM\\ntwitter_21,SARCASM\\ntwitter_22,SARCASM\\ntwitter_23,NOT_SARCASM\\ntwitter_24,NOT_SARCASM\\ntwitter_25,SARCASM\\ntwitter_26,SARCASM\\ntwitter_27,SARCASM\\ntwitter_28,NOT_SARCASM\\ntwitter_29,SARCASM\\ntwitter_30,SARCASM\\ntwitter_31,SARCASM\\ntwitter_32,NOT_SARCASM\\ntwitter_33,SARCASM\\ntwitter_34,SARCASM\\ntwitter_35,NOT_SARCASM\\ntwitter_36,SARCASM\\ntwitter_37,SARCASM\\ntwitter_38,SARCASM\\ntwitter_39,SARCASM\\ntwitter_40,SARCASM\\ntwitter_41,SARCASM\\ntwitter_42,NOT_SARCASM\\ntwitter_43,SARCASM\\ntwitter_44,NOT_SARCASM\\ntwitter_45,NOT_SARCASM\\ntwitter_46,NOT_SARCASM\\ntwitter_47,SARCASM\\ntwitter_48,SARCASM\\ntwitter_49,NOT_SARCASM\\ntwitter_50,SARCASM\\ntwitter_51,NOT_SARCASM\\ntwitter_52,NOT_SARCASM\\ntwitter_53,SARCASM\\ntwitter_54,SARCASM\\ntwitter_55,SARCASM\\ntwitter_56,SARCASM\\ntwitter_57,NOT_SARCASM\\ntwitter_58,NOT_SARCASM\\ntwitter_59,SARCASM\\ntwitter_60,SARCASM\\ntwitter_61,NOT_SARCASM\\ntwitter_62,SARCASM\\ntwitter_63,NOT_SARCASM\\ntwitter_64,SARCASM\\ntwitter_65,SARCASM\\ntwitter_66,NOT_SARCASM\\ntwitter_67,NOT_SARCASM\\ntwitter_68,NOT_SARCASM\\ntwitter_69,NOT_SARCASM\\ntwitter_70,SARCASM\\ntwitter_71,NOT_SARCASM\\ntwitter_72,SARCASM\\ntwitter_73,SARCASM\\ntwitter_74,SARCASM\\ntwitter_75,SARCASM\\ntwitter_76,NOT_SARCASM\\ntwitter_77,SARCASM\\ntwitter_78,SARCASM\\ntwitter_79,NOT_SARCASM\\ntwitter_80,SARCASM\\ntwitter_81,NOT_SARCASM\\ntwitter_82,NOT_SARCASM\\ntwitter_83,SARCASM\\ntwitter_84,SARCASM\\ntwitter_85,NOT_SARCASM\\ntwitter_86,NOT_SARCASM\\ntwitter_87,NOT_SARCASM\\ntwitter_88,NOT_SARCASM\\ntwitter_89,SARCASM\\ntwitter_90,NOT_SARCASM\\ntwitter_91,NOT_SARCASM\\ntwitter_92,SARCASM\\ntwitter_93,SARCASM\\ntwitter_94,SARCASM\\ntwitter_95,SARCASM\\ntwitter_96,SARCASM\\ntwitter_97,SARCASM\\ntwitter_98,NOT_SARCASM\\ntwitter_99,NOT_SARCASM\\ntwitter_100,SARCASM\\ntwitter_101,SARCASM\\ntwitter_102,SARCASM\\ntwitter_103,NOT_SARCASM\\ntwitter_104,SARCASM\\ntwitter_105,NOT_SARCASM\\ntwitter_106,SARCASM\\ntwitter_107,NOT_SARCASM\\ntwitter_108,NOT_SARCASM\\ntwitter_109,SARCASM\\ntwitter_110,SARCASM\\ntwitter_111,SARCASM\\ntwitter_112,SARCASM\\ntwitter_113,SARCASM\\ntwitter_114,SARCASM\\ntwitter_115,SARCASM\\ntwitter_116,NOT_SARCASM\\ntwitter_117,SARCASM\\ntwitter_118,SARCASM\\ntwitter_119,NOT_SARCASM\\ntwitter_120,SARCASM\\ntwitter_121,NOT_SARCASM\\ntwitter_122,SARCASM\\ntwitter_123,NOT_SARCASM\\ntwitter_124,SARCASM\\ntwitter_125,NOT_SARCASM\\ntwitter_126,NOT_SARCASM\\ntwitter_127,NOT_SARCASM\\ntwitter_128,SARCASM\\ntwitter_129,NOT_SARCASM\\ntwitter_130,SARCASM\\ntwitter_131,NOT_SARCASM\\ntwitter_132,SARCASM\\ntwitter_133,SARCASM\\ntwitter_134,NOT_SARCASM\\ntwitter_135,SARCASM\\ntwitter_136,NOT_SARCASM\\ntwitter_137,SARCASM\\ntwitter_138,NOT_SARCASM\\ntwitter_139,SARCASM\\ntwitter_140,SARCASM\\ntwitter_141,SARCASM\\ntwitter_142,SARCASM\\ntwitter_143,SARCASM\\ntwitter_144,NOT_SARCASM\\ntwitter_145,SARCASM\\ntwitter_146,SARCASM\\ntwitter_147,SARCASM\\ntwitter_148,SARCASM\\ntwitter_149,SARCASM\\ntwitter_150,SARCASM\\ntwitter_151,SARCASM\\ntwitter_152,NOT_SARCASM\\ntwitter_153,SARCASM\\ntwitter_154,NOT_SARCASM\\ntwitter_155,SARCASM\\ntwitter_156,NOT_SARCASM\\ntwitter_157,SARCASM\\ntwitter_158,NOT_SARCASM\\ntwitter_159,SARCASM\\ntwitter_160,SARCASM\\ntwitter_161,NOT_SARCASM\\ntwitter_162,SARCASM\\ntwitter_163,SARCASM\\ntwitter_164,SARCASM\\ntwitter_165,SARCASM\\ntwitter_166,SARCASM\\ntwitter_167,SARCASM\\ntwitter_168,NOT_SARCASM\\ntwitter_169,NOT_SARCASM\\ntwitter_170,SARCASM\\ntwitter_171,NOT_SARCASM\\ntwitter_172,SARCASM\\ntwitter_173,SARCASM\\ntwitter_174,SARCASM\\ntwitter_175,SARCASM\\ntwitter_176,SARCASM\\ntwitter_177,SARCASM\\ntwitter_178,NOT_SARCASM\\ntwitter_179,SARCASM\\ntwitter_180,SARCASM\\ntwitter_181,SARCASM\\ntwitter_182,NOT_SARCASM\\ntwitter_183,SARCASM\\ntwitter_184,SARCASM\\ntwitter_185,SARCASM\\ntwitter_186,SARCASM\\ntwitter_187,SARCASM\\ntwitter_188,SARCASM\\ntwitter_189,NOT_SARCASM\\ntwitter_190,NOT_SARCASM\\ntwitter_191,NOT_SARCASM\\ntwitter_192,NOT_SARCASM\\ntwitter_193,SARCASM\\ntwitter_194,NOT_SARCASM\\ntwitter_195,NOT_SARCASM\\ntwitter_196,SARCASM\\ntwitter_197,NOT_SARCASM\\ntwitter_198,SARCASM\\ntwitter_199,SARCASM\\ntwitter_200,SARCASM\\ntwitter_201,SARCASM\\ntwitter_202,SARCASM\\ntwitter_203,SARCASM\\ntwitter_204,SARCASM\\ntwitter_205,NOT_SARCASM\\ntwitter_206,NOT_SARCASM\\ntwitter_207,SARCASM\\ntwitter_208,SARCASM\\ntwitter_209,SARCASM\\ntwitter_210,SARCASM\\ntwitter_211,SARCASM\\ntwitter_212,NOT_SARCASM\\ntwitter_213,SARCASM\\ntwitter_214,NOT_SARCASM\\ntwitter_215,NOT_SARCASM\\ntwitter_216,SARCASM\\ntwitter_217,NOT_SARCASM\\ntwitter_218,SARCASM\\ntwitter_219,NOT_SARCASM\\ntwitter_220,SARCASM\\ntwitter_221,NOT_SARCASM\\ntwitter_222,NOT_SARCASM\\ntwitter_223,SARCASM\\ntwitter_224,SARCASM\\ntwitter_225,SARCASM\\ntwitter_226,SARCASM\\ntwitter_227,NOT_SARCASM\\ntwitter_228,NOT_SARCASM\\ntwitter_229,SARCASM\\ntwitter_230,NOT_SARCASM\\ntwitter_231,NOT_SARCASM\\ntwitter_232,SARCASM\\ntwitter_233,SARCASM\\ntwitter_234,SARCASM\\ntwitter_235,SARCASM\\ntwitter_236,NOT_SARCASM\\ntwitter_237,SARCASM\\ntwitter_238,SARCASM\\ntwitter_239,SARCASM\\ntwitter_240,SARCASM\\ntwitter_241,SARCASM\\ntwitter_242,SARCASM\\ntwitter_243,SARCASM\\ntwitter_244,NOT_SARCASM\\ntwitter_245,SARCASM\\ntwitter_246,NOT_SARCASM\\ntwitter_247,SARCASM\\ntwitter_248,SARCASM\\ntwitter_249,SARCASM\\ntwitter_250,SARCASM\\ntwitter_251,SARCASM\\ntwitter_252,NOT_SARCASM\\ntwitter_253,NOT_SARCASM\\ntwitter_254,NOT_SARCASM\\ntwitter_255,SARCASM\\ntwitter_256,NOT_SARCASM\\ntwitter_257,NOT_SARCASM\\ntwitter_258,NOT_SARCASM\\ntwitter_259,NOT_SARCASM\\ntwitter_260,SARCASM\\ntwitter_261,SARCASM\\ntwitter_262,SARCASM\\ntwitter_263,NOT_SARCASM\\ntwitter_264,NOT_SARCASM\\ntwitter_265,SARCASM\\ntwitter_266,SARCASM\\ntwitter_267,NOT_SARCASM\\ntwitter_268,NOT_SARCASM\\ntwitter_269,SARCASM\\ntwitter_270,NOT_SARCASM\\ntwitter_271,NOT_SARCASM\\ntwitter_272,NOT_SARCASM\\ntwitter_273,NOT_SARCASM\\ntwitter_274,SARCASM\\ntwitter_275,SARCASM\\ntwitter_276,NOT_SARCASM\\ntwitter_277,SARCASM\\ntwitter_278,NOT_SARCASM\\ntwitter_279,SARCASM\\ntwitter_280,SARCASM\\ntwitter_281,SARCASM\\ntwitter_282,NOT_SARCASM\\ntwitter_283,SARCASM\\ntwitter_284,SARCASM\\ntwitter_285,NOT_SARCASM\\ntwitter_286,NOT_SARCASM\\ntwitter_287,SARCASM\\ntwitter_288,NOT_SARCASM\\ntwitter_289,NOT_SARCASM\\ntwitter_290,SARCASM\\ntwitter_291,SARCASM\\ntwitter_292,SARCASM\\ntwitter_293,SARCASM\\ntwitter_294,SARCASM\\ntwitter_295,NOT_SARCASM\\ntwitter_296,SARCASM\\ntwitter_297,SARCASM\\ntwitter_298,SARCASM\\ntwitter_299,SARCASM\\ntwitter_300,NOT_SARCASM\\ntwitter_301,SARCASM\\ntwitter_302,NOT_SARCASM\\ntwitter_303,SARCASM\\ntwitter_304,SARCASM\\ntwitter_305,NOT_SARCASM\\ntwitter_306,SARCASM\\ntwitter_307,NOT_SARCASM\\ntwitter_308,SARCASM\\ntwitter_309,SARCASM\\ntwitter_310,SARCASM\\ntwitter_311,SARCASM\\ntwitter_312,NOT_SARCASM\\ntwitter_313,SARCASM\\ntwitter_314,SARCASM\\ntwitter_315,SARCASM\\ntwitter_316,SARCASM\\ntwitter_317,NOT_SARCASM\\ntwitter_318,NOT_SARCASM\\ntwitter_319,SARCASM\\ntwitter_320,SARCASM\\ntwitter_321,NOT_SARCASM\\ntwitter_322,NOT_SARCASM\\ntwitter_323,SARCASM\\ntwitter_324,NOT_SARCASM\\ntwitter_325,SARCASM\\ntwitter_326,NOT_SARCASM\\ntwitter_327,SARCASM\\ntwitter_328,NOT_SARCASM\\ntwitter_329,SARCASM\\ntwitter_330,SARCASM\\ntwitter_331,SARCASM\\ntwitter_332,SARCASM\\ntwitter_333,SARCASM\\ntwitter_334,SARCASM\\ntwitter_335,NOT_SARCASM\\ntwitter_336,SARCASM\\ntwitter_337,NOT_SARCASM\\ntwitter_338,SARCASM\\ntwitter_339,NOT_SARCASM\\ntwitter_340,SARCASM\\ntwitter_341,SARCASM\\ntwitter_342,SARCASM\\ntwitter_343,NOT_SARCASM\\ntwitter_344,NOT_SARCASM\\ntwitter_345,SARCASM\\ntwitter_346,NOT_SARCASM\\ntwitter_347,SARCASM\\ntwitter_348,SARCASM\\ntwitter_349,SARCASM\\ntwitter_350,NOT_SARCASM\\ntwitter_351,NOT_SARCASM\\ntwitter_352,SARCASM\\ntwitter_353,NOT_SARCASM\\ntwitter_354,SARCASM\\ntwitter_355,SARCASM\\ntwitter_356,SARCASM\\ntwitter_357,NOT_SARCASM\\ntwitter_358,SARCASM\\ntwitter_359,SARCASM\\ntwitter_360,SARCASM\\ntwitter_361,NOT_SARCASM\\ntwitter_362,SARCASM\\ntwitter_363,SARCASM\\ntwitter_364,NOT_SARCASM\\ntwitter_365,NOT_SARCASM\\ntwitter_366,SARCASM\\ntwitter_367,SARCASM\\ntwitter_368,SARCASM\\ntwitter_369,SARCASM\\ntwitter_370,SARCASM\\ntwitter_371,SARCASM\\ntwitter_372,NOT_SARCASM\\ntwitter_373,SARCASM\\ntwitter_374,NOT_SARCASM\\ntwitter_375,NOT_SARCASM\\ntwitter_376,NOT_SARCASM\\ntwitter_377,SARCASM\\ntwitter_378,NOT_SARCASM\\ntwitter_379,NOT_SARCASM\\ntwitter_380,SARCASM\\ntwitter_381,SARCASM\\ntwitter_382,NOT_SARCASM\\ntwitter_383,SARCASM\\ntwitter_384,SARCASM\\ntwitter_385,NOT_SARCASM\\ntwitter_386,SARCASM\\ntwitter_387,SARCASM\\ntwitter_388,SARCASM\\ntwitter_389,SARCASM\\ntwitter_390,NOT_SARCASM\\ntwitter_391,SARCASM\\ntwitter_392,NOT_SARCASM\\ntwitter_393,NOT_SARCASM\\ntwitter_394,SARCASM\\ntwitter_395,SARCASM\\ntwitter_396,NOT_SARCASM\\ntwitter_397,SARCASM\\ntwitter_398,SARCASM\\ntwitter_399,SARCASM\\ntwitter_400,SARCASM\\ntwitter_401,NOT_SARCASM\\ntwitter_402,SARCASM\\ntwitter_403,SARCASM\\ntwitter_404,NOT_SARCASM\\ntwitter_405,NOT_SARCASM\\ntwitter_406,SARCASM\\ntwitter_407,SARCASM\\ntwitter_408,SARCASM\\ntwitter_409,NOT_SARCASM\\ntwitter_410,SARCASM\\ntwitter_411,SARCASM\\ntwitter_412,NOT_SARCASM\\ntwitter_413,SARCASM\\ntwitter_414,SARCASM\\ntwitter_415,SARCASM\\ntwitter_416,SARCASM\\ntwitter_417,SARCASM\\ntwitter_418,SARCASM\\ntwitter_419,NOT_SARCASM\\ntwitter_420,NOT_SARCASM\\ntwitter_421,SARCASM\\ntwitter_422,SARCASM\\ntwitter_423,NOT_SARCASM\\ntwitter_424,SARCASM\\ntwitter_425,NOT_SARCASM\\ntwitter_426,NOT_SARCASM\\ntwitter_427,SARCASM\\ntwitter_428,SARCASM\\ntwitter_429,NOT_SARCASM\\ntwitter_430,SARCASM\\ntwitter_431,NOT_SARCASM\\ntwitter_432,SARCASM\\ntwitter_433,NOT_SARCASM\\ntwitter_434,NOT_SARCASM\\ntwitter_435,NOT_SARCASM\\ntwitter_436,NOT_SARCASM\\ntwitter_437,SARCASM\\ntwitter_438,NOT_SARCASM\\ntwitter_439,NOT_SARCASM\\ntwitter_440,SARCASM\\ntwitter_441,SARCASM\\ntwitter_442,SARCASM\\ntwitter_443,SARCASM\\ntwitter_444,SARCASM\\ntwitter_445,SARCASM\\ntwitter_446,SARCASM\\ntwitter_447,SARCASM\\ntwitter_448,SARCASM\\ntwitter_449,SARCASM\\ntwitter_450,NOT_SARCASM\\ntwitter_451,NOT_SARCASM\\ntwitter_452,NOT_SARCASM\\ntwitter_453,SARCASM\\ntwitter_454,SARCASM\\ntwitter_455,NOT_SARCASM\\ntwitter_456,NOT_SARCASM\\ntwitter_457,SARCASM\\ntwitter_458,SARCASM\\ntwitter_459,NOT_SARCASM\\ntwitter_460,SARCASM\\ntwitter_461,SARCASM\\ntwitter_462,SARCASM\\ntwitter_463,NOT_SARCASM\\ntwitter_464,SARCASM\\ntwitter_465,SARCASM\\ntwitter_466,SARCASM\\ntwitter_467,NOT_SARCASM\\ntwitter_468,SARCASM\\ntwitter_469,SARCASM\\ntwitter_470,NOT_SARCASM\\ntwitter_471,SARCASM\\ntwitter_472,SARCASM\\ntwitter_473,NOT_SARCASM\\ntwitter_474,SARCASM\\ntwitter_475,NOT_SARCASM\\ntwitter_476,SARCASM\\ntwitter_477,NOT_SARCASM\\ntwitter_478,NOT_SARCASM\\ntwitter_479,NOT_SARCASM\\ntwitter_480,SARCASM\\ntwitter_481,NOT_SARCASM\\ntwitter_482,NOT_SARCASM\\ntwitter_483,NOT_SARCASM\\ntwitter_484,SARCASM\\ntwitter_485,NOT_SARCASM\\ntwitter_486,SARCASM\\ntwitter_487,NOT_SARCASM\\ntwitter_488,NOT_SARCASM\\ntwitter_489,SARCASM\\ntwitter_490,NOT_SARCASM\\ntwitter_491,NOT_SARCASM\\ntwitter_492,NOT_SARCASM\\ntwitter_493,SARCASM\\ntwitter_494,SARCASM\\ntwitter_495,SARCASM\\ntwitter_496,SARCASM\\ntwitter_497,NOT_SARCASM\\ntwitter_498,SARCASM\\ntwitter_499,SARCASM\\ntwitter_500,NOT_SARCASM\\ntwitter_501,SARCASM\\ntwitter_502,SARCASM\\ntwitter_503,SARCASM\\ntwitter_504,SARCASM\\ntwitter_505,SARCASM\\ntwitter_506,SARCASM\\ntwitter_507,SARCASM\\ntwitter_508,NOT_SARCASM\\ntwitter_509,NOT_SARCASM\\ntwitter_510,SARCASM\\ntwitter_511,SARCASM\\ntwitter_512,NOT_SARCASM\\ntwitter_513,SARCASM\\ntwitter_514,NOT_SARCASM\\ntwitter_515,NOT_SARCASM\\ntwitter_516,SARCASM\\ntwitter_517,SARCASM\\ntwitter_518,NOT_SARCASM\\ntwitter_519,SARCASM\\ntwitter_520,SARCASM\\ntwitter_521,SARCASM\\ntwitter_522,SARCASM\\ntwitter_523,NOT_SARCASM\\ntwitter_524,SARCASM\\ntwitter_525,SARCASM\\ntwitter_526,SARCASM\\ntwitter_527,SARCASM\\ntwitter_528,SARCASM\\ntwitter_529,NOT_SARCASM\\ntwitter_530,NOT_SARCASM\\ntwitter_531,NOT_SARCASM\\ntwitter_532,NOT_SARCASM\\ntwitter_533,SARCASM\\ntwitter_534,SARCASM\\ntwitter_535,NOT_SARCASM\\ntwitter_536,SARCASM\\ntwitter_537,SARCASM\\ntwitter_538,NOT_SARCASM\\ntwitter_539,SARCASM\\ntwitter_540,SARCASM\\ntwitter_541,SARCASM\\ntwitter_542,SARCASM\\ntwitter_543,SARCASM\\ntwitter_544,NOT_SARCASM\\ntwitter_545,SARCASM\\ntwitter_546,SARCASM\\ntwitter_547,SARCASM\\ntwitter_548,NOT_SARCASM\\ntwitter_549,NOT_SARCASM\\ntwitter_550,SARCASM\\ntwitter_551,SARCASM\\ntwitter_552,NOT_SARCASM\\ntwitter_553,NOT_SARCASM\\ntwitter_554,SARCASM\\ntwitter_555,SARCASM\\ntwitter_556,SARCASM\\ntwitter_557,NOT_SARCASM\\ntwitter_558,SARCASM\\ntwitter_559,SARCASM\\ntwitter_560,SARCASM\\ntwitter_561,NOT_SARCASM\\ntwitter_562,SARCASM\\ntwitter_563,NOT_SARCASM\\ntwitter_564,SARCASM\\ntwitter_565,SARCASM\\ntwitter_566,SARCASM\\ntwitter_567,SARCASM\\ntwitter_568,SARCASM\\ntwitter_569,NOT_SARCASM\\ntwitter_570,NOT_SARCASM\\ntwitter_571,SARCASM\\ntwitter_572,SARCASM\\ntwitter_573,SARCASM\\ntwitter_574,SARCASM\\ntwitter_575,SARCASM\\ntwitter_576,SARCASM\\ntwitter_577,SARCASM\\ntwitter_578,SARCASM\\ntwitter_579,NOT_SARCASM\\ntwitter_580,SARCASM\\ntwitter_581,SARCASM\\ntwitter_582,NOT_SARCASM\\ntwitter_583,SARCASM\\ntwitter_584,SARCASM\\ntwitter_585,SARCASM\\ntwitter_586,NOT_SARCASM\\ntwitter_587,SARCASM\\ntwitter_588,SARCASM\\ntwitter_589,NOT_SARCASM\\ntwitter_590,NOT_SARCASM\\ntwitter_591,SARCASM\\ntwitter_592,SARCASM\\ntwitter_593,NOT_SARCASM\\ntwitter_594,SARCASM\\ntwitter_595,SARCASM\\ntwitter_596,NOT_SARCASM\\ntwitter_597,NOT_SARCASM\\ntwitter_598,SARCASM\\ntwitter_599,NOT_SARCASM\\ntwitter_600,SARCASM\\ntwitter_601,NOT_SARCASM\\ntwitter_602,SARCASM\\ntwitter_603,SARCASM\\ntwitter_604,SARCASM\\ntwitter_605,NOT_SARCASM\\ntwitter_606,NOT_SARCASM\\ntwitter_607,SARCASM\\ntwitter_608,SARCASM\\ntwitter_609,NOT_SARCASM\\ntwitter_610,SARCASM\\ntwitter_611,NOT_SARCASM\\ntwitter_612,SARCASM\\ntwitter_613,SARCASM\\ntwitter_614,SARCASM\\ntwitter_615,NOT_SARCASM\\ntwitter_616,SARCASM\\ntwitter_617,SARCASM\\ntwitter_618,NOT_SARCASM\\ntwitter_619,SARCASM\\ntwitter_620,NOT_SARCASM\\ntwitter_621,SARCASM\\ntwitter_622,NOT_SARCASM\\ntwitter_623,NOT_SARCASM\\ntwitter_624,NOT_SARCASM\\ntwitter_625,SARCASM\\ntwitter_626,SARCASM\\ntwitter_627,SARCASM\\ntwitter_628,NOT_SARCASM\\ntwitter_629,NOT_SARCASM\\ntwitter_630,NOT_SARCASM\\ntwitter_631,NOT_SARCASM\\ntwitter_632,SARCASM\\ntwitter_633,NOT_SARCASM\\ntwitter_634,SARCASM\\ntwitter_635,SARCASM\\ntwitter_636,NOT_SARCASM\\ntwitter_637,NOT_SARCASM\\ntwitter_638,NOT_SARCASM\\ntwitter_639,SARCASM\\ntwitter_640,NOT_SARCASM\\ntwitter_641,NOT_SARCASM\\ntwitter_642,SARCASM\\ntwitter_643,SARCASM\\ntwitter_644,NOT_SARCASM\\ntwitter_645,SARCASM\\ntwitter_646,NOT_SARCASM\\ntwitter_647,NOT_SARCASM\\ntwitter_648,SARCASM\\ntwitter_649,SARCASM\\ntwitter_650,SARCASM\\ntwitter_651,SARCASM\\ntwitter_652,SARCASM\\ntwitter_653,NOT_SARCASM\\ntwitter_654,NOT_SARCASM\\ntwitter_655,NOT_SARCASM\\ntwitter_656,SARCASM\\ntwitter_657,SARCASM\\ntwitter_658,NOT_SARCASM\\ntwitter_659,SARCASM\\ntwitter_660,SARCASM\\ntwitter_661,NOT_SARCASM\\ntwitter_662,SARCASM\\ntwitter_663,NOT_SARCASM\\ntwitter_664,SARCASM\\ntwitter_665,NOT_SARCASM\\ntwitter_666,NOT_SARCASM\\ntwitter_667,SARCASM\\ntwitter_668,SARCASM\\ntwitter_669,SARCASM\\ntwitter_670,NOT_SARCASM\\ntwitter_671,NOT_SARCASM\\ntwitter_672,SARCASM\\ntwitter_673,SARCASM\\ntwitter_674,SARCASM\\ntwitter_675,SARCASM\\ntwitter_676,SARCASM\\ntwitter_677,NOT_SARCASM\\ntwitter_678,SARCASM\\ntwitter_679,NOT_SARCASM\\ntwitter_680,NOT_SARCASM\\ntwitter_681,NOT_SARCASM\\ntwitter_682,SARCASM\\ntwitter_683,NOT_SARCASM\\ntwitter_684,SARCASM\\ntwitter_685,SARCASM\\ntwitter_686,SARCASM\\ntwitter_687,NOT_SARCASM\\ntwitter_688,SARCASM\\ntwitter_689,SARCASM\\ntwitter_690,SARCASM\\ntwitter_691,SARCASM\\ntwitter_692,SARCASM\\ntwitter_693,SARCASM\\ntwitter_694,NOT_SARCASM\\ntwitter_695,NOT_SARCASM\\ntwitter_696,NOT_SARCASM\\ntwitter_697,SARCASM\\ntwitter_698,NOT_SARCASM\\ntwitter_699,NOT_SARCASM\\ntwitter_700,SARCASM\\ntwitter_701,SARCASM\\ntwitter_702,NOT_SARCASM\\ntwitter_703,SARCASM\\ntwitter_704,SARCASM\\ntwitter_705,NOT_SARCASM\\ntwitter_706,NOT_SARCASM\\ntwitter_707,SARCASM\\ntwitter_708,SARCASM\\ntwitter_709,NOT_SARCASM\\ntwitter_710,SARCASM\\ntwitter_711,SARCASM\\ntwitter_712,SARCASM\\ntwitter_713,SARCASM\\ntwitter_714,SARCASM\\ntwitter_715,SARCASM\\ntwitter_716,SARCASM\\ntwitter_717,SARCASM\\ntwitter_718,SARCASM\\ntwitter_719,SARCASM\\ntwitter_720,NOT_SARCASM\\ntwitter_721,SARCASM\\ntwitter_722,NOT_SARCASM\\ntwitter_723,SARCASM\\ntwitter_724,SARCASM\\ntwitter_725,NOT_SARCASM\\ntwitter_726,NOT_SARCASM\\ntwitter_727,NOT_SARCASM\\ntwitter_728,NOT_SARCASM\\ntwitter_729,SARCASM\\ntwitter_730,SARCASM\\ntwitter_731,NOT_SARCASM\\ntwitter_732,SARCASM\\ntwitter_733,NOT_SARCASM\\ntwitter_734,NOT_SARCASM\\ntwitter_735,SARCASM\\ntwitter_736,SARCASM\\ntwitter_737,SARCASM\\ntwitter_738,SARCASM\\ntwitter_739,SARCASM\\ntwitter_740,SARCASM\\ntwitter_741,SARCASM\\ntwitter_742,SARCASM\\ntwitter_743,SARCASM\\ntwitter_744,NOT_SARCASM\\ntwitter_745,NOT_SARCASM\\ntwitter_746,NOT_SARCASM\\ntwitter_747,SARCASM\\ntwitter_748,NOT_SARCASM\\ntwitter_749,SARCASM\\ntwitter_750,NOT_SARCASM\\ntwitter_751,SARCASM\\ntwitter_752,NOT_SARCASM\\ntwitter_753,NOT_SARCASM\\ntwitter_754,SARCASM\\ntwitter_755,NOT_SARCASM\\ntwitter_756,SARCASM\\ntwitter_757,NOT_SARCASM\\ntwitter_758,SARCASM\\ntwitter_759,NOT_SARCASM\\ntwitter_760,SARCASM\\ntwitter_761,NOT_SARCASM\\ntwitter_762,SARCASM\\ntwitter_763,SARCASM\\ntwitter_764,SARCASM\\ntwitter_765,SARCASM\\ntwitter_766,SARCASM\\ntwitter_767,SARCASM\\ntwitter_768,NOT_SARCASM\\ntwitter_769,NOT_SARCASM\\ntwitter_770,SARCASM\\ntwitter_771,SARCASM\\ntwitter_772,NOT_SARCASM\\ntwitter_773,SARCASM\\ntwitter_774,NOT_SARCASM\\ntwitter_775,SARCASM\\ntwitter_776,NOT_SARCASM\\ntwitter_777,NOT_SARCASM\\ntwitter_778,SARCASM\\ntwitter_779,NOT_SARCASM\\ntwitter_780,SARCASM\\ntwitter_781,NOT_SARCASM\\ntwitter_782,NOT_SARCASM\\ntwitter_783,SARCASM\\ntwitter_784,SARCASM\\ntwitter_785,SARCASM\\ntwitter_786,SARCASM\\ntwitter_787,NOT_SARCASM\\ntwitter_788,NOT_SARCASM\\ntwitter_789,SARCASM\\ntwitter_790,SARCASM\\ntwitter_791,NOT_SARCASM\\ntwitter_792,NOT_SARCASM\\ntwitter_793,SARCASM\\ntwitter_794,SARCASM\\ntwitter_795,NOT_SARCASM\\ntwitter_796,SARCASM\\ntwitter_797,SARCASM\\ntwitter_798,SARCASM\\ntwitter_799,SARCASM\\ntwitter_800,NOT_SARCASM\\ntwitter_801,NOT_SARCASM\\ntwitter_802,NOT_SARCASM\\ntwitter_803,SARCASM\\ntwitter_804,NOT_SARCASM\\ntwitter_805,SARCASM\\ntwitter_806,NOT_SARCASM\\ntwitter_807,NOT_SARCASM\\ntwitter_808,SARCASM\\ntwitter_809,SARCASM\\ntwitter_810,NOT_SARCASM\\ntwitter_811,SARCASM\\ntwitter_812,SARCASM\\ntwitter_813,SARCASM\\ntwitter_814,SARCASM\\ntwitter_815,SARCASM\\ntwitter_816,SARCASM\\ntwitter_817,NOT_SARCASM\\ntwitter_818,SARCASM\\ntwitter_819,SARCASM\\ntwitter_820,NOT_SARCASM\\ntwitter_821,NOT_SARCASM\\ntwitter_822,NOT_SARCASM\\ntwitter_823,SARCASM\\ntwitter_824,NOT_SARCASM\\ntwitter_825,SARCASM\\ntwitter_826,SARCASM\\ntwitter_827,SARCASM\\ntwitter_828,NOT_SARCASM\\ntwitter_829,SARCASM\\ntwitter_830,SARCASM\\ntwitter_831,NOT_SARCASM\\ntwitter_832,NOT_SARCASM\\ntwitter_833,NOT_SARCASM\\ntwitter_834,NOT_SARCASM\\ntwitter_835,SARCASM\\ntwitter_836,SARCASM\\ntwitter_837,NOT_SARCASM\\ntwitter_838,SARCASM\\ntwitter_839,SARCASM\\ntwitter_840,NOT_SARCASM\\ntwitter_841,SARCASM\\ntwitter_842,SARCASM\\ntwitter_843,NOT_SARCASM\\ntwitter_844,SARCASM\\ntwitter_845,NOT_SARCASM\\ntwitter_846,NOT_SARCASM\\ntwitter_847,SARCASM\\ntwitter_848,NOT_SARCASM\\ntwitter_849,SARCASM\\ntwitter_850,SARCASM\\ntwitter_851,SARCASM\\ntwitter_852,SARCASM\\ntwitter_853,NOT_SARCASM\\ntwitter_854,SARCASM\\ntwitter_855,NOT_SARCASM\\ntwitter_856,SARCASM\\ntwitter_857,SARCASM\\ntwitter_858,SARCASM\\ntwitter_859,NOT_SARCASM\\ntwitter_860,SARCASM\\ntwitter_861,SARCASM\\ntwitter_862,NOT_SARCASM\\ntwitter_863,SARCASM\\ntwitter_864,NOT_SARCASM\\ntwitter_865,SARCASM\\ntwitter_866,SARCASM\\ntwitter_867,SARCASM\\ntwitter_868,SARCASM\\ntwitter_869,SARCASM\\ntwitter_870,NOT_SARCASM\\ntwitter_871,SARCASM\\ntwitter_872,SARCASM\\ntwitter_873,SARCASM\\ntwitter_874,NOT_SARCASM\\ntwitter_875,NOT_SARCASM\\ntwitter_876,NOT_SARCASM\\ntwitter_877,NOT_SARCASM\\ntwitter_878,SARCASM\\ntwitter_879,SARCASM\\ntwitter_880,SARCASM\\ntwitter_881,NOT_SARCASM\\ntwitter_882,NOT_SARCASM\\ntwitter_883,SARCASM\\ntwitter_884,NOT_SARCASM\\ntwitter_885,SARCASM\\ntwitter_886,SARCASM\\ntwitter_887,NOT_SARCASM\\ntwitter_888,SARCASM\\ntwitter_889,SARCASM\\ntwitter_890,SARCASM\\ntwitter_891,SARCASM\\ntwitter_892,NOT_SARCASM\\ntwitter_893,SARCASM\\ntwitter_894,NOT_SARCASM\\ntwitter_895,NOT_SARCASM\\ntwitter_896,NOT_SARCASM\\ntwitter_897,SARCASM\\ntwitter_898,SARCASM\\ntwitter_899,NOT_SARCASM\\ntwitter_900,NOT_SARCASM\\ntwitter_901,SARCASM\\ntwitter_902,SARCASM\\ntwitter_903,SARCASM\\ntwitter_904,SARCASM\\ntwitter_905,SARCASM\\ntwitter_906,SARCASM\\ntwitter_907,SARCASM\\ntwitter_908,SARCASM\\ntwitter_909,SARCASM\\ntwitter_910,NOT_SARCASM\\ntwitter_911,NOT_SARCASM\\ntwitter_912,SARCASM\\ntwitter_913,SARCASM\\ntwitter_914,SARCASM\\ntwitter_915,SARCASM\\ntwitter_916,SARCASM\\ntwitter_917,SARCASM\\ntwitter_918,NOT_SARCASM\\ntwitter_919,SARCASM\\ntwitter_920,NOT_SARCASM\\ntwitter_921,SARCASM\\ntwitter_922,NOT_SARCASM\\ntwitter_923,NOT_SARCASM\\ntwitter_924,SARCASM\\ntwitter_925,NOT_SARCASM\\ntwitter_926,NOT_SARCASM\\ntwitter_927,NOT_SARCASM\\ntwitter_928,NOT_SARCASM\\ntwitter_929,NOT_SARCASM\\ntwitter_930,NOT_SARCASM\\ntwitter_931,SARCASM\\ntwitter_932,SARCASM\\ntwitter_933,NOT_SARCASM\\ntwitter_934,NOT_SARCASM\\ntwitter_935,SARCASM\\ntwitter_936,SARCASM\\ntwitter_937,SARCASM\\ntwitter_938,SARCASM\\ntwitter_939,SARCASM\\ntwitter_940,SARCASM\\ntwitter_941,NOT_SARCASM\\ntwitter_942,NOT_SARCASM\\ntwitter_943,NOT_SARCASM\\ntwitter_944,NOT_SARCASM\\ntwitter_945,NOT_SARCASM\\ntwitter_946,SARCASM\\ntwitter_947,SARCASM\\ntwitter_948,SARCASM\\ntwitter_949,NOT_SARCASM\\ntwitter_950,NOT_SARCASM\\ntwitter_951,NOT_SARCASM\\ntwitter_952,SARCASM\\ntwitter_953,SARCASM\\ntwitter_954,SARCASM\\ntwitter_955,SARCASM\\ntwitter_956,SARCASM\\ntwitter_957,SARCASM\\ntwitter_958,SARCASM\\ntwitter_959,NOT_SARCASM\\ntwitter_960,SARCASM\\ntwitter_961,SARCASM\\ntwitter_962,SARCASM\\ntwitter_963,NOT_SARCASM\\ntwitter_964,SARCASM\\ntwitter_965,SARCASM\\ntwitter_966,SARCASM\\ntwitter_967,SARCASM\\ntwitter_968,SARCASM\\ntwitter_969,SARCASM\\ntwitter_970,SARCASM\\ntwitter_971,NOT_SARCASM\\ntwitter_972,NOT_SARCASM\\ntwitter_973,NOT_SARCASM\\ntwitter_974,SARCASM\\ntwitter_975,SARCASM\\ntwitter_976,NOT_SARCASM\\ntwitter_977,SARCASM\\ntwitter_978,NOT_SARCASM\\ntwitter_979,SARCASM\\ntwitter_980,SARCASM\\ntwitter_981,SARCASM\\ntwitter_982,NOT_SARCASM\\ntwitter_983,NOT_SARCASM\\ntwitter_984,SARCASM\\ntwitter_985,SARCASM\\ntwitter_986,NOT_SARCASM\\ntwitter_987,NOT_SARCASM\\ntwitter_988,NOT_SARCASM\\ntwitter_989,NOT_SARCASM\\ntwitter_990,NOT_SARCASM\\ntwitter_991,SARCASM\\ntwitter_992,SARCASM\\ntwitter_993,SARCASM\\ntwitter_994,NOT_SARCASM\\ntwitter_995,NOT_SARCASM\\ntwitter_996,NOT_SARCASM\\ntwitter_997,NOT_SARCASM\\ntwitter_998,SARCASM\\ntwitter_999,SARCASM\\ntwitter_1000,NOT_SARCASM\\ntwitter_1001,SARCASM\\ntwitter_1002,SARCASM\\ntwitter_1003,SARCASM\\ntwitter_1004,NOT_SARCASM\\ntwitter_1005,SARCASM\\ntwitter_1006,SARCASM\\ntwitter_1007,SARCASM\\ntwitter_1008,NOT_SARCASM\\ntwitter_1009,NOT_SARCASM\\ntwitter_1010,SARCASM\\ntwitter_1011,NOT_SARCASM\\ntwitter_1012,SARCASM\\ntwitter_1013,NOT_SARCASM\\ntwitter_1014,SARCASM\\ntwitter_1015,NOT_SARCASM\\ntwitter_1016,SARCASM\\ntwitter_1017,NOT_SARCASM\\ntwitter_1018,SARCASM\\ntwitter_1019,NOT_SARCASM\\ntwitter_1020,SARCASM\\ntwitter_1021,NOT_SARCASM\\ntwitter_1022,NOT_SARCASM\\ntwitter_1023,SARCASM\\ntwitter_1024,SARCASM\\ntwitter_1025,NOT_SARCASM\\ntwitter_1026,NOT_SARCASM\\ntwitter_1027,SARCASM\\ntwitter_1028,SARCASM\\ntwitter_1029,SARCASM\\ntwitter_1030,SARCASM\\ntwitter_1031,NOT_SARCASM\\ntwitter_1032,NOT_SARCASM\\ntwitter_1033,NOT_SARCASM\\ntwitter_1034,NOT_SARCASM\\ntwitter_1035,NOT_SARCASM\\ntwitter_1036,SARCASM\\ntwitter_1037,NOT_SARCASM\\ntwitter_1038,SARCASM\\ntwitter_1039,SARCASM\\ntwitter_1040,NOT_SARCASM\\ntwitter_1041,NOT_SARCASM\\ntwitter_1042,SARCASM\\ntwitter_1043,NOT_SARCASM\\ntwitter_1044,SARCASM\\ntwitter_1045,NOT_SARCASM\\ntwitter_1046,SARCASM\\ntwitter_1047,NOT_SARCASM\\ntwitter_1048,SARCASM\\ntwitter_1049,NOT_SARCASM\\ntwitter_1050,SARCASM\\ntwitter_1051,SARCASM\\ntwitter_1052,NOT_SARCASM\\ntwitter_1053,SARCASM\\ntwitter_1054,SARCASM\\ntwitter_1055,NOT_SARCASM\\ntwitter_1056,SARCASM\\ntwitter_1057,SARCASM\\ntwitter_1058,SARCASM\\ntwitter_1059,SARCASM\\ntwitter_1060,SARCASM\\ntwitter_1061,SARCASM\\ntwitter_1062,SARCASM\\ntwitter_1063,NOT_SARCASM\\ntwitter_1064,SARCASM\\ntwitter_1065,SARCASM\\ntwitter_1066,NOT_SARCASM\\ntwitter_1067,SARCASM\\ntwitter_1068,NOT_SARCASM\\ntwitter_1069,SARCASM\\ntwitter_1070,SARCASM\\ntwitter_1071,NOT_SARCASM\\ntwitter_1072,NOT_SARCASM\\ntwitter_1073,SARCASM\\ntwitter_1074,SARCASM\\ntwitter_1075,SARCASM\\ntwitter_1076,SARCASM\\ntwitter_1077,NOT_SARCASM\\ntwitter_1078,SARCASM\\ntwitter_1079,SARCASM\\ntwitter_1080,SARCASM\\ntwitter_1081,SARCASM\\ntwitter_1082,NOT_SARCASM\\ntwitter_1083,SARCASM\\ntwitter_1084,SARCASM\\ntwitter_1085,NOT_SARCASM\\ntwitter_1086,SARCASM\\ntwitter_1087,SARCASM\\ntwitter_1088,NOT_SARCASM\\ntwitter_1089,NOT_SARCASM\\ntwitter_1090,NOT_SARCASM\\ntwitter_1091,SARCASM\\ntwitter_1092,NOT_SARCASM\\ntwitter_1093,NOT_SARCASM\\ntwitter_1094,SARCASM\\ntwitter_1095,SARCASM\\ntwitter_1096,NOT_SARCASM\\ntwitter_1097,NOT_SARCASM\\ntwitter_1098,SARCASM\\ntwitter_1099,NOT_SARCASM\\ntwitter_1100,SARCASM\\ntwitter_1101,NOT_SARCASM\\ntwitter_1102,NOT_SARCASM\\ntwitter_1103,SARCASM\\ntwitter_1104,SARCASM\\ntwitter_1105,SARCASM\\ntwitter_1106,NOT_SARCASM\\ntwitter_1107,SARCASM\\ntwitter_1108,SARCASM\\ntwitter_1109,SARCASM\\ntwitter_1110,NOT_SARCASM\\ntwitter_1111,SARCASM\\ntwitter_1112,SARCASM\\ntwitter_1113,NOT_SARCASM\\ntwitter_1114,SARCASM\\ntwitter_1115,SARCASM\\ntwitter_1116,SARCASM\\ntwitter_1117,NOT_SARCASM\\ntwitter_1118,NOT_SARCASM\\ntwitter_1119,NOT_SARCASM\\ntwitter_1120,SARCASM\\ntwitter_1121,SARCASM\\ntwitter_1122,NOT_SARCASM\\ntwitter_1123,SARCASM\\ntwitter_1124,SARCASM\\ntwitter_1125,SARCASM\\ntwitter_1126,SARCASM\\ntwitter_1127,NOT_SARCASM\\ntwitter_1128,SARCASM\\ntwitter_1129,SARCASM\\ntwitter_1130,SARCASM\\ntwitter_1131,NOT_SARCASM\\ntwitter_1132,SARCASM\\ntwitter_1133,SARCASM\\ntwitter_1134,NOT_SARCASM\\ntwitter_1135,NOT_SARCASM\\ntwitter_1136,SARCASM\\ntwitter_1137,NOT_SARCASM\\ntwitter_1138,NOT_SARCASM\\ntwitter_1139,SARCASM\\ntwitter_1140,NOT_SARCASM\\ntwitter_1141,SARCASM\\ntwitter_1142,SARCASM\\ntwitter_1143,SARCASM\\ntwitter_1144,SARCASM\\ntwitter_1145,SARCASM\\ntwitter_1146,NOT_SARCASM\\ntwitter_1147,SARCASM\\ntwitter_1148,NOT_SARCASM\\ntwitter_1149,SARCASM\\ntwitter_1150,NOT_SARCASM\\ntwitter_1151,NOT_SARCASM\\ntwitter_1152,SARCASM\\ntwitter_1153,NOT_SARCASM\\ntwitter_1154,NOT_SARCASM\\ntwitter_1155,SARCASM\\ntwitter_1156,SARCASM\\ntwitter_1157,SARCASM\\ntwitter_1158,SARCASM\\ntwitter_1159,SARCASM\\ntwitter_1160,NOT_SARCASM\\ntwitter_1161,NOT_SARCASM\\ntwitter_1162,SARCASM\\ntwitter_1163,NOT_SARCASM\\ntwitter_1164,SARCASM\\ntwitter_1165,SARCASM\\ntwitter_1166,SARCASM\\ntwitter_1167,NOT_SARCASM\\ntwitter_1168,NOT_SARCASM\\ntwitter_1169,NOT_SARCASM\\ntwitter_1170,SARCASM\\ntwitter_1171,SARCASM\\ntwitter_1172,SARCASM\\ntwitter_1173,SARCASM\\ntwitter_1174,SARCASM\\ntwitter_1175,SARCASM\\ntwitter_1176,NOT_SARCASM\\ntwitter_1177,NOT_SARCASM\\ntwitter_1178,SARCASM\\ntwitter_1179,NOT_SARCASM\\ntwitter_1180,SARCASM\\ntwitter_1181,NOT_SARCASM\\ntwitter_1182,NOT_SARCASM\\ntwitter_1183,SARCASM\\ntwitter_1184,SARCASM\\ntwitter_1185,NOT_SARCASM\\ntwitter_1186,NOT_SARCASM\\ntwitter_1187,SARCASM\\ntwitter_1188,NOT_SARCASM\\ntwitter_1189,SARCASM\\ntwitter_1190,SARCASM\\ntwitter_1191,SARCASM\\ntwitter_1192,NOT_SARCASM\\ntwitter_1193,SARCASM\\ntwitter_1194,NOT_SARCASM\\ntwitter_1195,SARCASM\\ntwitter_1196,NOT_SARCASM\\ntwitter_1197,NOT_SARCASM\\ntwitter_1198,SARCASM\\ntwitter_1199,NOT_SARCASM\\ntwitter_1200,SARCASM\\ntwitter_1201,NOT_SARCASM\\ntwitter_1202,SARCASM\\ntwitter_1203,SARCASM\\ntwitter_1204,NOT_SARCASM\\ntwitter_1205,SARCASM\\ntwitter_1206,NOT_SARCASM\\ntwitter_1207,SARCASM\\ntwitter_1208,SARCASM\\ntwitter_1209,NOT_SARCASM\\ntwitter_1210,SARCASM\\ntwitter_1211,SARCASM\\ntwitter_1212,SARCASM\\ntwitter_1213,SARCASM\\ntwitter_1214,SARCASM\\ntwitter_1215,SARCASM\\ntwitter_1216,SARCASM\\ntwitter_1217,SARCASM\\ntwitter_1218,NOT_SARCASM\\ntwitter_1219,SARCASM\\ntwitter_1220,NOT_SARCASM\\ntwitter_1221,NOT_SARCASM\\ntwitter_1222,SARCASM\\ntwitter_1223,NOT_SARCASM\\ntwitter_1224,NOT_SARCASM\\ntwitter_1225,SARCASM\\ntwitter_1226,NOT_SARCASM\\ntwitter_1227,SARCASM\\ntwitter_1228,NOT_SARCASM\\ntwitter_1229,SARCASM\\ntwitter_1230,SARCASM\\ntwitter_1231,SARCASM\\ntwitter_1232,SARCASM\\ntwitter_1233,SARCASM\\ntwitter_1234,NOT_SARCASM\\ntwitter_1235,NOT_SARCASM\\ntwitter_1236,NOT_SARCASM\\ntwitter_1237,NOT_SARCASM\\ntwitter_1238,SARCASM\\ntwitter_1239,NOT_SARCASM\\ntwitter_1240,NOT_SARCASM\\ntwitter_1241,NOT_SARCASM\\ntwitter_1242,SARCASM\\ntwitter_1243,SARCASM\\ntwitter_1244,NOT_SARCASM\\ntwitter_1245,NOT_SARCASM\\ntwitter_1246,SARCASM\\ntwitter_1247,SARCASM\\ntwitter_1248,SARCASM\\ntwitter_1249,SARCASM\\ntwitter_1250,NOT_SARCASM\\ntwitter_1251,SARCASM\\ntwitter_1252,SARCASM\\ntwitter_1253,SARCASM\\ntwitter_1254,SARCASM\\ntwitter_1255,NOT_SARCASM\\ntwitter_1256,NOT_SARCASM\\ntwitter_1257,SARCASM\\ntwitter_1258,NOT_SARCASM\\ntwitter_1259,NOT_SARCASM\\ntwitter_1260,SARCASM\\ntwitter_1261,SARCASM\\ntwitter_1262,SARCASM\\ntwitter_1263,NOT_SARCASM\\ntwitter_1264,SARCASM\\ntwitter_1265,NOT_SARCASM\\ntwitter_1266,NOT_SARCASM\\ntwitter_1267,SARCASM\\ntwitter_1268,SARCASM\\ntwitter_1269,SARCASM\\ntwitter_1270,NOT_SARCASM\\ntwitter_1271,SARCASM\\ntwitter_1272,NOT_SARCASM\\ntwitter_1273,NOT_SARCASM\\ntwitter_1274,SARCASM\\ntwitter_1275,SARCASM\\ntwitter_1276,SARCASM\\ntwitter_1277,NOT_SARCASM\\ntwitter_1278,NOT_SARCASM\\ntwitter_1279,NOT_SARCASM\\ntwitter_1280,SARCASM\\ntwitter_1281,NOT_SARCASM\\ntwitter_1282,NOT_SARCASM\\ntwitter_1283,SARCASM\\ntwitter_1284,SARCASM\\ntwitter_1285,NOT_SARCASM\\ntwitter_1286,NOT_SARCASM\\ntwitter_1287,SARCASM\\ntwitter_1288,SARCASM\\ntwitter_1289,SARCASM\\ntwitter_1290,NOT_SARCASM\\ntwitter_1291,SARCASM\\ntwitter_1292,SARCASM\\ntwitter_1293,NOT_SARCASM\\ntwitter_1294,NOT_SARCASM\\ntwitter_1295,SARCASM\\ntwitter_1296,SARCASM\\ntwitter_1297,SARCASM\\ntwitter_1298,SARCASM\\ntwitter_1299,SARCASM\\ntwitter_1300,SARCASM\\ntwitter_1301,SARCASM\\ntwitter_1302,SARCASM\\ntwitter_1303,NOT_SARCASM\\ntwitter_1304,NOT_SARCASM\\ntwitter_1305,SARCASM\\ntwitter_1306,SARCASM\\ntwitter_1307,SARCASM\\ntwitter_1308,SARCASM\\ntwitter_1309,NOT_SARCASM\\ntwitter_1310,SARCASM\\ntwitter_1311,SARCASM\\ntwitter_1312,SARCASM\\ntwitter_1313,NOT_SARCASM\\ntwitter_1314,SARCASM\\ntwitter_1315,NOT_SARCASM\\ntwitter_1316,NOT_SARCASM\\ntwitter_1317,SARCASM\\ntwitter_1318,SARCASM\\ntwitter_1319,NOT_SARCASM\\ntwitter_1320,SARCASM\\ntwitter_1321,NOT_SARCASM\\ntwitter_1322,SARCASM\\ntwitter_1323,SARCASM\\ntwitter_1324,SARCASM\\ntwitter_1325,SARCASM\\ntwitter_1326,NOT_SARCASM\\ntwitter_1327,NOT_SARCASM\\ntwitter_1328,NOT_SARCASM\\ntwitter_1329,NOT_SARCASM\\ntwitter_1330,SARCASM\\ntwitter_1331,SARCASM\\ntwitter_1332,SARCASM\\ntwitter_1333,NOT_SARCASM\\ntwitter_1334,SARCASM\\ntwitter_1335,NOT_SARCASM\\ntwitter_1336,NOT_SARCASM\\ntwitter_1337,SARCASM\\ntwitter_1338,SARCASM\\ntwitter_1339,SARCASM\\ntwitter_1340,SARCASM\\ntwitter_1341,NOT_SARCASM\\ntwitter_1342,SARCASM\\ntwitter_1343,SARCASM\\ntwitter_1344,SARCASM\\ntwitter_1345,SARCASM\\ntwitter_1346,NOT_SARCASM\\ntwitter_1347,SARCASM\\ntwitter_1348,SARCASM\\ntwitter_1349,SARCASM\\ntwitter_1350,SARCASM\\ntwitter_1351,SARCASM\\ntwitter_1352,NOT_SARCASM\\ntwitter_1353,SARCASM\\ntwitter_1354,NOT_SARCASM\\ntwitter_1355,SARCASM\\ntwitter_1356,NOT_SARCASM\\ntwitter_1357,SARCASM\\ntwitter_1358,NOT_SARCASM\\ntwitter_1359,SARCASM\\ntwitter_1360,SARCASM\\ntwitter_1361,SARCASM\\ntwitter_1362,NOT_SARCASM\\ntwitter_1363,SARCASM\\ntwitter_1364,NOT_SARCASM\\ntwitter_1365,SARCASM\\ntwitter_1366,SARCASM\\ntwitter_1367,SARCASM\\ntwitter_1368,SARCASM\\ntwitter_1369,NOT_SARCASM\\ntwitter_1370,NOT_SARCASM\\ntwitter_1371,NOT_SARCASM\\ntwitter_1372,NOT_SARCASM\\ntwitter_1373,NOT_SARCASM\\ntwitter_1374,SARCASM\\ntwitter_1375,NOT_SARCASM\\ntwitter_1376,SARCASM\\ntwitter_1377,SARCASM\\ntwitter_1378,NOT_SARCASM\\ntwitter_1379,SARCASM\\ntwitter_1380,SARCASM\\ntwitter_1381,SARCASM\\ntwitter_1382,NOT_SARCASM\\ntwitter_1383,SARCASM\\ntwitter_1384,NOT_SARCASM\\ntwitter_1385,SARCASM\\ntwitter_1386,SARCASM\\ntwitter_1387,SARCASM\\ntwitter_1388,NOT_SARCASM\\ntwitter_1389,SARCASM\\ntwitter_1390,SARCASM\\ntwitter_1391,SARCASM\\ntwitter_1392,SARCASM\\ntwitter_1393,SARCASM\\ntwitter_1394,SARCASM\\ntwitter_1395,SARCASM\\ntwitter_1396,NOT_SARCASM\\ntwitter_1397,SARCASM\\ntwitter_1398,SARCASM\\ntwitter_1399,SARCASM\\ntwitter_1400,NOT_SARCASM\\ntwitter_1401,SARCASM\\ntwitter_1402,SARCASM\\ntwitter_1403,SARCASM\\ntwitter_1404,SARCASM\\ntwitter_1405,SARCASM\\ntwitter_1406,NOT_SARCASM\\ntwitter_1407,SARCASM\\ntwitter_1408,SARCASM\\ntwitter_1409,SARCASM\\ntwitter_1410,SARCASM\\ntwitter_1411,SARCASM\\ntwitter_1412,NOT_SARCASM\\ntwitter_1413,SARCASM\\ntwitter_1414,SARCASM\\ntwitter_1415,SARCASM\\ntwitter_1416,SARCASM\\ntwitter_1417,SARCASM\\ntwitter_1418,NOT_SARCASM\\ntwitter_1419,NOT_SARCASM\\ntwitter_1420,NOT_SARCASM\\ntwitter_1421,NOT_SARCASM\\ntwitter_1422,NOT_SARCASM\\ntwitter_1423,SARCASM\\ntwitter_1424,SARCASM\\ntwitter_1425,SARCASM\\ntwitter_1426,SARCASM\\ntwitter_1427,SARCASM\\ntwitter_1428,SARCASM\\ntwitter_1429,SARCASM\\ntwitter_1430,NOT_SARCASM\\ntwitter_1431,NOT_SARCASM\\ntwitter_1432,SARCASM\\ntwitter_1433,SARCASM\\ntwitter_1434,NOT_SARCASM\\ntwitter_1435,SARCASM\\ntwitter_1436,SARCASM\\ntwitter_1437,SARCASM\\ntwitter_1438,SARCASM\\ntwitter_1439,SARCASM\\ntwitter_1440,NOT_SARCASM\\ntwitter_1441,SARCASM\\ntwitter_1442,SARCASM\\ntwitter_1443,NOT_SARCASM\\ntwitter_1444,NOT_SARCASM\\ntwitter_1445,NOT_SARCASM\\ntwitter_1446,NOT_SARCASM\\ntwitter_1447,SARCASM\\ntwitter_1448,SARCASM\\ntwitter_1449,SARCASM\\ntwitter_1450,SARCASM\\ntwitter_1451,SARCASM\\ntwitter_1452,SARCASM\\ntwitter_1453,SARCASM\\ntwitter_1454,SARCASM\\ntwitter_1455,SARCASM\\ntwitter_1456,SARCASM\\ntwitter_1457,SARCASM\\ntwitter_1458,NOT_SARCASM\\ntwitter_1459,NOT_SARCASM\\ntwitter_1460,SARCASM\\ntwitter_1461,SARCASM\\ntwitter_1462,NOT_SARCASM\\ntwitter_1463,SARCASM\\ntwitter_1464,NOT_SARCASM\\ntwitter_1465,SARCASM\\ntwitter_1466,NOT_SARCASM\\ntwitter_1467,SARCASM\\ntwitter_1468,SARCASM\\ntwitter_1469,SARCASM\\ntwitter_1470,SARCASM\\ntwitter_1471,SARCASM\\ntwitter_1472,SARCASM\\ntwitter_1473,NOT_SARCASM\\ntwitter_1474,NOT_SARCASM\\ntwitter_1475,NOT_SARCASM\\ntwitter_1476,SARCASM\\ntwitter_1477,SARCASM\\ntwitter_1478,NOT_SARCASM\\ntwitter_1479,SARCASM\\ntwitter_1480,NOT_SARCASM\\ntwitter_1481,SARCASM\\ntwitter_1482,NOT_SARCASM\\ntwitter_1483,NOT_SARCASM\\ntwitter_1484,SARCASM\\ntwitter_1485,NOT_SARCASM\\ntwitter_1486,SARCASM\\ntwitter_1487,NOT_SARCASM\\ntwitter_1488,NOT_SARCASM\\ntwitter_1489,SARCASM\\ntwitter_1490,SARCASM\\ntwitter_1491,NOT_SARCASM\\ntwitter_1492,SARCASM\\ntwitter_1493,SARCASM\\ntwitter_1494,SARCASM\\ntwitter_1495,NOT_SARCASM\\ntwitter_1496,SARCASM\\ntwitter_1497,NOT_SARCASM\\ntwitter_1498,SARCASM\\ntwitter_1499,NOT_SARCASM\\ntwitter_1500,NOT_SARCASM\\ntwitter_1501,NOT_SARCASM\\ntwitter_1502,NOT_SARCASM\\ntwitter_1503,SARCASM\\ntwitter_1504,SARCASM\\ntwitter_1505,SARCASM\\ntwitter_1506,SARCASM\\ntwitter_1507,NOT_SARCASM\\ntwitter_1508,SARCASM\\ntwitter_1509,SARCASM\\ntwitter_1510,SARCASM\\ntwitter_1511,NOT_SARCASM\\ntwitter_1512,SARCASM\\ntwitter_1513,SARCASM\\ntwitter_1514,SARCASM\\ntwitter_1515,NOT_SARCASM\\ntwitter_1516,NOT_SARCASM\\ntwitter_1517,NOT_SARCASM\\ntwitter_1518,NOT_SARCASM\\ntwitter_1519,NOT_SARCASM\\ntwitter_1520,NOT_SARCASM\\ntwitter_1521,SARCASM\\ntwitter_1522,SARCASM\\ntwitter_1523,SARCASM\\ntwitter_1524,NOT_SARCASM\\ntwitter_1525,SARCASM\\ntwitter_1526,NOT_SARCASM\\ntwitter_1527,SARCASM\\ntwitter_1528,SARCASM\\ntwitter_1529,NOT_SARCASM\\ntwitter_1530,SARCASM\\ntwitter_1531,NOT_SARCASM\\ntwitter_1532,SARCASM\\ntwitter_1533,SARCASM\\ntwitter_1534,SARCASM\\ntwitter_1535,SARCASM\\ntwitter_1536,NOT_SARCASM\\ntwitter_1537,SARCASM\\ntwitter_1538,SARCASM\\ntwitter_1539,SARCASM\\ntwitter_1540,SARCASM\\ntwitter_1541,SARCASM\\ntwitter_1542,SARCASM\\ntwitter_1543,NOT_SARCASM\\ntwitter_1544,SARCASM\\ntwitter_1545,NOT_SARCASM\\ntwitter_1546,SARCASM\\ntwitter_1547,SARCASM\\ntwitter_1548,SARCASM\\ntwitter_1549,SARCASM\\ntwitter_1550,SARCASM\\ntwitter_1551,SARCASM\\ntwitter_1552,SARCASM\\ntwitter_1553,SARCASM\\ntwitter_1554,SARCASM\\ntwitter_1555,NOT_SARCASM\\ntwitter_1556,SARCASM\\ntwitter_1557,NOT_SARCASM\\ntwitter_1558,SARCASM\\ntwitter_1559,SARCASM\\ntwitter_1560,NOT_SARCASM\\ntwitter_1561,NOT_SARCASM\\ntwitter_1562,NOT_SARCASM\\ntwitter_1563,SARCASM\\ntwitter_1564,NOT_SARCASM\\ntwitter_1565,NOT_SARCASM\\ntwitter_1566,NOT_SARCASM\\ntwitter_1567,SARCASM\\ntwitter_1568,NOT_SARCASM\\ntwitter_1569,NOT_SARCASM\\ntwitter_1570,SARCASM\\ntwitter_1571,NOT_SARCASM\\ntwitter_1572,SARCASM\\ntwitter_1573,SARCASM\\ntwitter_1574,NOT_SARCASM\\ntwitter_1575,SARCASM\\ntwitter_1576,SARCASM\\ntwitter_1577,SARCASM\\ntwitter_1578,SARCASM\\ntwitter_1579,SARCASM\\ntwitter_1580,NOT_SARCASM\\ntwitter_1581,SARCASM\\ntwitter_1582,NOT_SARCASM\\ntwitter_1583,NOT_SARCASM\\ntwitter_1584,NOT_SARCASM\\ntwitter_1585,SARCASM\\ntwitter_1586,SARCASM\\ntwitter_1587,NOT_SARCASM\\ntwitter_1588,SARCASM\\ntwitter_1589,NOT_SARCASM\\ntwitter_1590,NOT_SARCASM\\ntwitter_1591,SARCASM\\ntwitter_1592,SARCASM\\ntwitter_1593,NOT_SARCASM\\ntwitter_1594,SARCASM\\ntwitter_1595,NOT_SARCASM\\ntwitter_1596,SARCASM\\ntwitter_1597,NOT_SARCASM\\ntwitter_1598,NOT_SARCASM\\ntwitter_1599,SARCASM\\ntwitter_1600,NOT_SARCASM\\ntwitter_1601,SARCASM\\ntwitter_1602,NOT_SARCASM\\ntwitter_1603,NOT_SARCASM\\ntwitter_1604,SARCASM\\ntwitter_1605,SARCASM\\ntwitter_1606,SARCASM\\ntwitter_1607,NOT_SARCASM\\ntwitter_1608,NOT_SARCASM\\ntwitter_1609,SARCASM\\ntwitter_1610,SARCASM\\ntwitter_1611,SARCASM\\ntwitter_1612,NOT_SARCASM\\ntwitter_1613,SARCASM\\ntwitter_1614,NOT_SARCASM\\ntwitter_1615,SARCASM\\ntwitter_1616,NOT_SARCASM\\ntwitter_1617,SARCASM\\ntwitter_1618,SARCASM\\ntwitter_1619,NOT_SARCASM\\ntwitter_1620,SARCASM\\ntwitter_1621,SARCASM\\ntwitter_1622,NOT_SARCASM\\ntwitter_1623,SARCASM\\ntwitter_1624,NOT_SARCASM\\ntwitter_1625,SARCASM\\ntwitter_1626,SARCASM\\ntwitter_1627,NOT_SARCASM\\ntwitter_1628,NOT_SARCASM\\ntwitter_1629,SARCASM\\ntwitter_1630,SARCASM\\ntwitter_1631,NOT_SARCASM\\ntwitter_1632,NOT_SARCASM\\ntwitter_1633,NOT_SARCASM\\ntwitter_1634,SARCASM\\ntwitter_1635,SARCASM\\ntwitter_1636,SARCASM\\ntwitter_1637,SARCASM\\ntwitter_1638,SARCASM\\ntwitter_1639,SARCASM\\ntwitter_1640,SARCASM\\ntwitter_1641,NOT_SARCASM\\ntwitter_1642,SARCASM\\ntwitter_1643,SARCASM\\ntwitter_1644,SARCASM\\ntwitter_1645,SARCASM\\ntwitter_1646,SARCASM\\ntwitter_1647,SARCASM\\ntwitter_1648,SARCASM\\ntwitter_1649,SARCASM\\ntwitter_1650,SARCASM\\ntwitter_1651,NOT_SARCASM\\ntwitter_1652,NOT_SARCASM\\ntwitter_1653,SARCASM\\ntwitter_1654,SARCASM\\ntwitter_1655,SARCASM\\ntwitter_1656,SARCASM\\ntwitter_1657,SARCASM\\ntwitter_1658,NOT_SARCASM\\ntwitter_1659,NOT_SARCASM\\ntwitter_1660,SARCASM\\ntwitter_1661,NOT_SARCASM\\ntwitter_1662,NOT_SARCASM\\ntwitter_1663,SARCASM\\ntwitter_1664,SARCASM\\ntwitter_1665,SARCASM\\ntwitter_1666,SARCASM\\ntwitter_1667,SARCASM\\ntwitter_1668,SARCASM\\ntwitter_1669,NOT_SARCASM\\ntwitter_1670,SARCASM\\ntwitter_1671,SARCASM\\ntwitter_1672,SARCASM\\ntwitter_1673,NOT_SARCASM\\ntwitter_1674,SARCASM\\ntwitter_1675,SARCASM\\ntwitter_1676,SARCASM\\ntwitter_1677,SARCASM\\ntwitter_1678,NOT_SARCASM\\ntwitter_1679,NOT_SARCASM\\ntwitter_1680,SARCASM\\ntwitter_1681,NOT_SARCASM\\ntwitter_1682,SARCASM\\ntwitter_1683,NOT_SARCASM\\ntwitter_1684,SARCASM\\ntwitter_1685,SARCASM\\ntwitter_1686,SARCASM\\ntwitter_1687,NOT_SARCASM\\ntwitter_1688,NOT_SARCASM\\ntwitter_1689,NOT_SARCASM\\ntwitter_1690,NOT_SARCASM\\ntwitter_1691,SARCASM\\ntwitter_1692,SARCASM\\ntwitter_1693,NOT_SARCASM\\ntwitter_1694,SARCASM\\ntwitter_1695,NOT_SARCASM\\ntwitter_1696,SARCASM\\ntwitter_1697,SARCASM\\ntwitter_1698,NOT_SARCASM\\ntwitter_1699,NOT_SARCASM\\ntwitter_1700,NOT_SARCASM\\ntwitter_1701,NOT_SARCASM\\ntwitter_1702,SARCASM\\ntwitter_1703,SARCASM\\ntwitter_1704,NOT_SARCASM\\ntwitter_1705,NOT_SARCASM\\ntwitter_1706,SARCASM\\ntwitter_1707,SARCASM\\ntwitter_1708,SARCASM\\ntwitter_1709,NOT_SARCASM\\ntwitter_1710,SARCASM\\ntwitter_1711,SARCASM\\ntwitter_1712,SARCASM\\ntwitter_1713,SARCASM\\ntwitter_1714,NOT_SARCASM\\ntwitter_1715,NOT_SARCASM\\ntwitter_1716,SARCASM\\ntwitter_1717,NOT_SARCASM\\ntwitter_1718,NOT_SARCASM\\ntwitter_1719,NOT_SARCASM\\ntwitter_1720,SARCASM\\ntwitter_1721,NOT_SARCASM\\ntwitter_1722,SARCASM\\ntwitter_1723,SARCASM\\ntwitter_1724,SARCASM\\ntwitter_1725,NOT_SARCASM\\ntwitter_1726,NOT_SARCASM\\ntwitter_1727,SARCASM\\ntwitter_1728,SARCASM\\ntwitter_1729,NOT_SARCASM\\ntwitter_1730,SARCASM\\ntwitter_1731,SARCASM\\ntwitter_1732,SARCASM\\ntwitter_1733,SARCASM\\ntwitter_1734,SARCASM\\ntwitter_1735,SARCASM\\ntwitter_1736,SARCASM\\ntwitter_1737,SARCASM\\ntwitter_1738,SARCASM\\ntwitter_1739,NOT_SARCASM\\ntwitter_1740,SARCASM\\ntwitter_1741,NOT_SARCASM\\ntwitter_1742,NOT_SARCASM\\ntwitter_1743,NOT_SARCASM\\ntwitter_1744,SARCASM\\ntwitter_1745,SARCASM\\ntwitter_1746,SARCASM\\ntwitter_1747,SARCASM\\ntwitter_1748,NOT_SARCASM\\ntwitter_1749,SARCASM\\ntwitter_1750,NOT_SARCASM\\ntwitter_1751,SARCASM\\ntwitter_1752,NOT_SARCASM\\ntwitter_1753,NOT_SARCASM\\ntwitter_1754,SARCASM\\ntwitter_1755,SARCASM\\ntwitter_1756,SARCASM\\ntwitter_1757,SARCASM\\ntwitter_1758,SARCASM\\ntwitter_1759,SARCASM\\ntwitter_1760,NOT_SARCASM\\ntwitter_1761,SARCASM\\ntwitter_1762,SARCASM\\ntwitter_1763,NOT_SARCASM\\ntwitter_1764,NOT_SARCASM\\ntwitter_1765,NOT_SARCASM\\ntwitter_1766,SARCASM\\ntwitter_1767,NOT_SARCASM\\ntwitter_1768,SARCASM\\ntwitter_1769,SARCASM\\ntwitter_1770,NOT_SARCASM\\ntwitter_1771,SARCASM\\ntwitter_1772,SARCASM\\ntwitter_1773,NOT_SARCASM\\ntwitter_1774,SARCASM\\ntwitter_1775,NOT_SARCASM\\ntwitter_1776,NOT_SARCASM\\ntwitter_1777,SARCASM\\ntwitter_1778,SARCASM\\ntwitter_1779,SARCASM\\ntwitter_1780,SARCASM\\ntwitter_1781,SARCASM\\ntwitter_1782,SARCASM\\ntwitter_1783,SARCASM\\ntwitter_1784,SARCASM\\ntwitter_1785,SARCASM\\ntwitter_1786,SARCASM\\ntwitter_1787,SARCASM\\ntwitter_1788,SARCASM\\ntwitter_1789,NOT_SARCASM\\ntwitter_1790,SARCASM\\ntwitter_1791,NOT_SARCASM\\ntwitter_1792,SARCASM\\ntwitter_1793,NOT_SARCASM\\ntwitter_1794,SARCASM\\ntwitter_1795,NOT_SARCASM\\ntwitter_1796,NOT_SARCASM\\ntwitter_1797,SARCASM\\ntwitter_1798,SARCASM\\ntwitter_1799,NOT_SARCASM\\ntwitter_1800,NOT_SARCASM\\n'"
            ]
          },
          "metadata": {
            "tags": []
          },
          "execution_count": 100
        }
      ]
    }
  ]
}